{
  "cells": [
    {
      "cell_type": "markdown",
      "metadata": {
        "id": "ovaMzV0M2e6T"
      },
      "source": [
        "# 2023 \n",
        "## Di Marzo Gabriele\n",
        "## Git-merge, weight matching for interpolate mlp "
      ]
    },
    {
      "cell_type": "markdown",
      "metadata": {
        "id": "ZIfh4ct23w-M"
      },
      "source": [
        "Empirical evidence shows that merging N models just with the average of each returns a model with a useless result. A second strategy is averaging the output of each model, but this means that we need to keep in memory all the N models and make them run in parallel. \n",
        "\n",
        "[Entezari et al. (2021)](https://arxiv.org/abs/2110.06296) conjecture that if permutation invariance is taken into account, then all SGD solutions for a sufficiently wide network trained on the same task become linearly mode connected, i.e., have\n",
        "no barrier between them. \n",
        "\n",
        "Simply put: we can train models with the same architecture (even on different datasets), permute the weight matrices, interpolate the weight of each matrix, and get a model with the same performance.\n",
        "\n",
        "<h3> Some useful definition :</h3>\n",
        "\n",
        "<b>barrier</b>: The loss barrier $B(\\Theta_A, \\Theta_B)$ along the linear path between $\\Theta_A$ and $\\Theta_A$ is defined as the highest\n",
        "difference between the loss occurred when linearly connecting two points $\\Theta_A$, $\\Theta_B$ and linear interpolation of the\n",
        "loss values in each of them \n",
        "\n",
        "<b>LinearModelConnectivity (LMC)</b>: We say that two networks $\\Theta_A$ and $\\Theta_B$ are lineary mode connected if the barrier between them along a linear path is $≈$ 0 \n",
        "\n",
        "\n",
        "<h2><b>Main problem, how permute the model for get this property?</b></h2>"
      ]
    },
    {
      "cell_type": "markdown",
      "metadata": {
        "id": "EJoNcZu6531D"
      },
      "source": [
        "\n",
        "# This notebook: \n",
        "The method that this notebook implements comes from \n",
        "[Ainsworth 2022](https://arxiv.org/abs/2209.04836) where some algorithms that allows linear interpolation between models with the same architecture is presented. All the work done is based on the conjecture of Entezari about permutation invariance. \n",
        "\n",
        "The paper present 3 method:\n",
        "- activation matching\n",
        "- weight matchin\n",
        "- straight-through estimator\n",
        "\n",
        "\n",
        "Although the last method shows better results (as loss), it's also the most power-consuming, and considering that the difference between the last and the first method is not so huge, the authors agree that the second is the best option for a fast merging. For these reasons, the notebook that i present shows a possible implementation of the weight matching procedure.\n",
        "\\\n",
        "\\\n",
        "Thanks to these methods, it's possible to think about a system made of several small models and merge the contributions of each network, without increasing the loss of the model. "
      ]
    },
    {
      "cell_type": "markdown",
      "metadata": {
        "id": "NnndbPH2sdO0"
      },
      "source": [
        "### fine tuning : better exploration of loss landscape\n",
        "Just as note, the question that the paper tries to address is why the SGD solution works well in some problems but is less robust in other optimization settings. Keep reading the paper, i didn't find a answer to this question. Indeed it seems that the paper is more focused on explaining the different merging procedures. \n",
        "\n",
        "Reading online (Twitter, with the huge community of NN students) it turns out that the permuted weights are linearly connected to the other network if the learning rate is sufficiently <font color=\"red\"><b>high</b></font>\n",
        "and you use <font color=\"red\"><b>SGD</b></font>, or the learning rate is sufficiently <font color=\"blue\"><b>low</b></font> and you use the <font color=\"blue\"><b>Adam optimizer</b></font>.\n",
        "\\\n",
        "In my experiment i keep using the default learning rate, also because I discovered these details after a few attempts. In any case, the merging procedure still works.\n",
        "\n",
        "A reference for this particular details: [Stanislav Fort github](https://github.com/stanislavfort/dissect-git-re-basin), see latest update of the readme "
      ]
    },
    {
      "cell_type": "markdown",
      "metadata": {
        "id": "7VaYL9GN3w7Y"
      },
      "source": [
        "# Import lib\n"
      ]
    },
    {
      "cell_type": "code",
      "execution_count": null,
      "metadata": {
        "colab": {
          "base_uri": "https://localhost:8080/"
        },
        "id": "CqXULkJHSXkj",
        "outputId": "46852d88-3222-48af-af81-f98bca1f9a16"
      },
      "outputs": [
        {
          "name": "stdout",
          "output_type": "stream",
          "text": [
            "Mounted at /content/drive\n"
          ]
        }
      ],
      "source": [
        "from google.colab import drive\n",
        "drive.mount('/content/drive')"
      ]
    },
    {
      "cell_type": "code",
      "execution_count": null,
      "metadata": {
        "id": "wtphyxhw33FY"
      },
      "outputs": [],
      "source": [
        "import torch\n",
        "from torch import nn\n",
        "from torch.nn import functional as F\n",
        "from torch import optim\n",
        "from torch.utils.data import DataLoader\n",
        "from torch import autocast\n",
        "from torch.cuda.amp import GradScaler \n",
        "\n",
        "from torchvision import datasets\n",
        "from torchvision import transforms\n",
        "from torchvision.transforms import ToTensor, Normalize\n",
        "\n",
        "\n",
        "import copy\n",
        "import pickle\n",
        "import random\n",
        "import tqdm\n",
        "import numpy as np\n",
        "import matplotlib.pyplot as plt\n",
        "\n",
        "from scipy.optimize import linear_sum_assignment\n",
        "from collections import defaultdict\n",
        "from google.colab import files\n",
        "from itertools import chain\n",
        "from IPython.display import clear_output\n",
        "\n",
        "device = torch.device('cuda' if torch.cuda.is_available() else 'cpu')\n",
        "torch.manual_seed(42)\n",
        "np.random.seed(42)"
      ]
    },
    {
      "cell_type": "code",
      "source": [
        "# insert path of the folder where there is the dir *models*\n",
        "\n",
        "path = 'TODO'"
      ],
      "metadata": {
        "id": "LZFUcb148T9F"
      },
      "execution_count": null,
      "outputs": []
    },
    {
      "cell_type": "markdown",
      "metadata": {
        "id": "1Xbwbv6S2e83"
      },
      "source": [
        "# Dataset and Dataloader\n",
        "For testing the algorithm, I chose to use 3 well known datasets: the Mnist dataset, the FashionMnist dataset and the cifar10 dataset. All the dataset comes from torch vision."
      ]
    },
    {
      "cell_type": "code",
      "execution_count": null,
      "metadata": {
        "id": "GX7eLPzV6pgM"
      },
      "outputs": [],
      "source": [
        "%%capture \n",
        "training_data = datasets.MNIST(\n",
        "    root=\"data\",\n",
        "    train=True,\n",
        "    download=True,\n",
        "    transform=ToTensor()\n",
        ")\n",
        "\n",
        "test_data = datasets.MNIST(\n",
        "    root=\"data\",\n",
        "    train=False,\n",
        "    download=True,\n",
        "    transform=ToTensor()\n",
        ")\n",
        "\n",
        "training_data_F = datasets.FashionMNIST(\n",
        "    root=\"data\",\n",
        "    train=True,\n",
        "    download=True,\n",
        "    transform=ToTensor()\n",
        ")\n",
        "\n",
        "test_data_F = datasets.FashionMNIST(\n",
        "    root=\"data\",\n",
        "    train=False,\n",
        "    download=True,\n",
        "    transform=ToTensor()\n",
        ")\n",
        "\n",
        "training_data_CIFAR = datasets.CIFAR10(\n",
        "    root='data', \n",
        "    train=True, \n",
        "    download=True, \n",
        "    transform=transforms.Compose([\n",
        "        ToTensor(),\n",
        "        Normalize((0.5, 0.5, 0.5), (0.5, 0.5, 0.5))]\n",
        "    )\n",
        ")\n",
        "\n",
        "test_data_CIFAR = datasets.CIFAR10(\n",
        "    root='data', \n",
        "    train=False, \n",
        "    download=True, \n",
        "    transform=transforms.Compose([\n",
        "        ToTensor(),\n",
        "        Normalize((0.5, 0.5, 0.5), (0.5, 0.5, 0.5))]\n",
        "    )\n",
        ")\n"
      ]
    },
    {
      "cell_type": "code",
      "execution_count": null,
      "metadata": {
        "id": "RSx4OuyY62qi"
      },
      "outputs": [],
      "source": [
        "experiment_data = {}\n",
        "experiment_data['MNIST'] = {'train':training_data, 'test': test_data}\n",
        "experiment_data['FMNIST'] = {'train':training_data_F, 'test': test_data_F}\n",
        "experiment_data['CIFAR10'] = {'train': training_data_CIFAR, 'test': training_data_CIFAR}\n",
        "\n",
        "data_loaders = {\n",
        "    'mnist':{\n",
        "        'train': DataLoader(experiment_data['MNIST']['train'], batch_size=124, shuffle=True),\n",
        "        'test' : DataLoader(experiment_data['MNIST']['test'], batch_size=124)\n",
        "    },\n",
        "    'fashion':{\n",
        "        'train': DataLoader(experiment_data['FMNIST']['train'], batch_size=124, shuffle=True), \n",
        "        'test' : DataLoader(experiment_data['FMNIST']['test'], batch_size=124)\n",
        "    }, \n",
        "    'cifar':{\n",
        "        'train': DataLoader(experiment_data['CIFAR10']['train'], batch_size=124, shuffle=True),\n",
        "        'test' : DataLoader(experiment_data['CIFAR10']['test'], batch_size=124)\n",
        "    }\n",
        "}\n",
        "\n",
        "mnist_input_size = 28*28    # W * H\n",
        "cifar_input_size = 3*32*32  # Channels * W * H"
      ]
    },
    {
      "cell_type": "code",
      "execution_count": null,
      "metadata": {
        "colab": {
          "base_uri": "https://localhost:8080/",
          "height": 282
        },
        "id": "LHd19f007uOi",
        "outputId": "eb91694d-e6f8-4136-8240-236ca5bb7c6f"
      },
      "outputs": [
        {
          "name": "stdout",
          "output_type": "stream",
          "text": [
            "MNIST || label: 4, number of sample in the dataset: 60000\n"
          ]
        },
        {
          "data": {
            "image/png": "[encoded data removed]",
            "text/plain": [
              "<Figure size 432x288 with 1 Axes>"
            ]
          },
          "metadata": {
            "needs_background": "light"
          },
          "output_type": "display_data"
        }
      ],
      "source": [
        "img, lab = experiment_data['MNIST']['train'][20]\n",
        "img = np.array(img, dtype='float').reshape(28, 28)\n",
        "plt.imshow(img, cmap='gray')\n",
        "print(f\"MNIST || label: {lab}, number of sample in the dataset: {len(experiment_data['MNIST']['train'])}\")"
      ]
    },
    {
      "cell_type": "code",
      "execution_count": null,
      "metadata": {
        "colab": {
          "base_uri": "https://localhost:8080/",
          "height": 282
        },
        "id": "wqsKHfWmdsjl",
        "outputId": "2274a682-0c52-4b7e-81e3-660eca87a539"
      },
      "outputs": [
        {
          "name": "stdout",
          "output_type": "stream",
          "text": [
            "F_MNIST|| label: T-shirt/top, number of sample in the dataset: 60000\n"
          ]
        },
        {
          "data": {
            "image/png": "[encoded data removed]",
            "text/plain": [
              "<Figure size 432x288 with 1 Axes>"
            ]
          },
          "metadata": {
            "needs_background": "light"
          },
          "output_type": "display_data"
        }
      ],
      "source": [
        "fashion_mnist_label_mapping = ['T-shirt/top', 'Trouser', 'Pullover', 'Dress', 'Coat',\n",
        "                               'Sandal', 'Shirt', 'Sneaker', 'Bag', 'Ankle boot']\n",
        "\n",
        "img, lab = experiment_data['FMNIST']['train'][34]\n",
        "img = np.array(img, dtype='float').reshape(28, 28)\n",
        "plt.imshow(img, cmap='gray')\n",
        "print(f\"F_MNIST|| label: {fashion_mnist_label_mapping[lab]}, number of sample in the dataset: {len(experiment_data['MNIST']['train'])}\")"
      ]
    },
    {
      "cell_type": "code",
      "execution_count": null,
      "metadata": {
        "colab": {
          "base_uri": "https://localhost:8080/",
          "height": 283
        },
        "id": "aciJa70beDix",
        "outputId": "76b84b14-7276-4bfe-f255-c5f57a75d2a8"
      },
      "outputs": [
        {
          "name": "stdout",
          "output_type": "stream",
          "text": [
            "CIFAR || label: car, number of sample in the dataset: 60000\n"
          ]
        },
        {
          "data": {
            "image/png": "[encoded data removed]",
            "text/plain": [
              "<Figure size 432x288 with 1 Axes>"
            ]
          },
          "metadata": {
            "needs_background": "light"
          },
          "output_type": "display_data"
        }
      ],
      "source": [
        "cifar_label_mapping = ('plane', 'car', 'bird', 'cat',\n",
        "                       'deer', 'dog', 'frog', 'horse',\n",
        "                       'ship', 'truck')\n",
        "\n",
        "img, lab = experiment_data['CIFAR10']['train'][45]\n",
        "img = img / 2 + 0.5\n",
        "img = np.transpose(img.numpy(), (1,2,0))\n",
        "plt.imshow(img)\n",
        "print(f\"CIFAR || label: {cifar_label_mapping[lab]}, number of sample in the dataset: {len(experiment_data['MNIST']['train'])}\")"
      ]
    },
    {
      "cell_type": "markdown",
      "metadata": {
        "id": "jtNo5HyD2e_a"
      },
      "source": [
        "# Models definition & utility \n",
        "Model classes, utility for dict of parameters, train etc.\n",
        "\n",
        "The models that i choose are 3, pretty similar, the only difference between them is the number of parameters for layer and the number of layers. \n",
        "\\\n",
        "[Entezari (2.2)](https://arxiv.org/pdf/2110.06296.pdf#subsection.2.2) explains that different architectures responde in a different way to the permutation conjecture. This behaviour will be evaluate in the [experiements part](#scrollTo=CxLWE5El9rZM&line=1&uniqifier=1)\n",
        "of this notebook."
      ]
    },
    {
      "cell_type": "code",
      "execution_count": null,
      "metadata": {
        "id": "JCaKs45f6-0I"
      },
      "outputs": [],
      "source": [
        "class SNet(nn.Module): \n",
        "\n",
        "  def __init__(self, input_size, bias=True): \n",
        "    super(SNet, self).__init__()\n",
        "    self.dense1 = torch.nn.Linear(input_size, 50, bias=bias)\n",
        "    self.dense2 = torch.nn.Linear(50, 40, bias=bias)\n",
        "    self.dense3 = torch.nn.Linear(40, 30, bias=bias)\n",
        "    self.dense4 = torch.nn.Linear(30, 10, bias=bias)\n",
        "\n",
        "  def forward(self, x): \n",
        "    x = torch.flatten(x, start_dim=1)\n",
        "    x = torch.nn.functional.relu(self.dense1(x))\n",
        "    x = torch.nn.functional.relu(self.dense2(x))\n",
        "    x = torch.nn.functional.relu(self.dense3(x))\n",
        "    return self.dense4(x)"
      ]
    },
    {
      "cell_type": "code",
      "execution_count": null,
      "metadata": {
        "id": "9GyzclSS7Ct5"
      },
      "outputs": [],
      "source": [
        "class MNet(nn.Module): \n",
        "  def __init__(self, input_size, bias=True): \n",
        "    super(MNet, self).__init__()\n",
        "    self.dense1 = torch.nn.Linear(input_size, 512, bias=bias)\n",
        "    self.dense2 = torch.nn.Linear(512, 512, bias=bias)\n",
        "    self.dense3 = torch.nn.Linear(512, 512, bias=bias)\n",
        "    self.dense4 = torch.nn.Linear(512, 10, bias=bias)\n",
        "\n",
        "  def forward(self, x): \n",
        "    x = torch.flatten(x, start_dim=1)\n",
        "    x = torch.nn.functional.relu(self.dense1(x))\n",
        "    x = torch.nn.functional.relu(self.dense2(x))\n",
        "    x = torch.nn.functional.relu(self.dense3(x))\n",
        "    return self.dense4(x)"
      ]
    },
    {
      "cell_type": "code",
      "execution_count": null,
      "metadata": {
        "id": "pJ1FEfLz9--J"
      },
      "outputs": [],
      "source": [
        "class DNet(nn.Module): \n",
        "  def __init__(self, input_size, bias=True): \n",
        "    super(DNet, self).__init__()\n",
        "    self.dense1 = torch.nn.Linear(input_size,256, bias=bias)\n",
        "    self.dense2 = torch.nn.Linear(256, 256, bias=bias)\n",
        "    self.dense3 = torch.nn.Linear(256, 128, bias=bias)\n",
        "    self.dense4 = torch.nn.Linear(128, 128, bias=bias)\n",
        "    self.dense5 = torch.nn.Linear(128, 128, bias=bias)\n",
        "    self.dense6 = torch.nn.Linear(128, 64, bias=bias)\n",
        "    self.dense7 = torch.nn.Linear(64, 32, bias=bias)\n",
        "    self.dense8 = torch.nn.Linear(32, 10, bias=bias)\n",
        "\n",
        "  def forward(self, x): \n",
        "    x = torch.flatten(x, start_dim=1)\n",
        "    x = torch.nn.functional.relu(self.dense1(x))\n",
        "    x = torch.nn.functional.relu(self.dense2(x))\n",
        "    x = torch.nn.functional.relu(self.dense3(x))\n",
        "    x = torch.nn.functional.relu(self.dense4(x))\n",
        "    x = torch.nn.functional.relu(self.dense5(x))\n",
        "    x = torch.nn.functional.relu(self.dense6(x))\n",
        "    x = torch.nn.functional.relu(self.dense7(x))\n",
        "    return torch.nn.functional.relu(self.dense8(x))\n"
      ]
    },
    {
      "cell_type": "markdown",
      "metadata": {
        "id": "TCkYGhAYUmGb"
      },
      "source": [
        "<h3>Small note:</h3>\n",
        "\n",
        "The training procedure uses the AutonomusMixedPrecision, a technique that I'd like to test for training. It's not relevant to the scope of the permutation selection, but should increase the velocity of training."
      ]
    },
    {
      "cell_type": "code",
      "execution_count": null,
      "metadata": {
        "id": "5L-nFj6KnM6l"
      },
      "outputs": [],
      "source": [
        "#@title train utility\n",
        "def train_loop(data_loader, model,\n",
        "               loss_fn, optimizer, \n",
        "               scaler,\n",
        "               print_score=True, return_loss=False): \n",
        "\n",
        "  size = len(data_loader.dataset)\n",
        "  losses = []\n",
        "  for batch, (x, y) in enumerate(data_loader):\n",
        "    optimizer.zero_grad()\n",
        "    x, y = x.to(device), y.to(device)\n",
        "    with autocast(device_type='cuda', dtype=torch.float16):\n",
        "      pred = model(x)\n",
        "      loss = loss_fn(pred, y)\n",
        "\n",
        "    \n",
        "    scaler.scale(loss).backward()\n",
        "    scaler.step(optimizer)\n",
        "    scaler.update()\n",
        "    \n",
        "    losses.append(loss.item())\n",
        "\n",
        "  if print_score: \n",
        "    print('\\tEpoch loss: ', sum(losses)/len(losses) )\n",
        "  if return_loss: \n",
        "    return sum(losses)/len(losses)\n",
        "\n",
        "\n",
        "def test_loop(data_loader_dict, model, loss_fn, device, test_set=True, print_score=True): \n",
        "  set_ = 'test' if test_set else 'train'\n",
        "  data_loader = data_loader_dict[set_]\n",
        "  size = len(data_loader.dataset)\n",
        "  num_batches = len(data_loader)\n",
        "  test_loss, correct = 0, 0\n",
        "\n",
        "  with torch.no_grad():\n",
        "      for X, y in data_loader:\n",
        "          X, y = X.to(device), y.to(device)\n",
        "          pred = model(X)\n",
        "          test_loss += loss_fn(pred, y).item()\n",
        "          correct += (pred.argmax(1) == y).type(torch.float).sum().item()\n",
        "  test_loss /= num_batches\n",
        "  correct /= size\n",
        "  if not print_score: \n",
        "    return 100*correct, test_loss\n",
        "  \n",
        "  print(f\"Eval on {set_}: \\n Accuracy: {(100*correct):>0.1f}%, Avg loss: {test_loss:>8f} \\n\")\n",
        "   "
      ]
    },
    {
      "cell_type": "code",
      "execution_count": null,
      "metadata": {
        "id": "3y_edQUb7Fhi"
      },
      "outputs": [],
      "source": [
        "#@title detach & retach\n",
        "'''function for convert raw dict of parameters (numpy) to torch parameters and vice-versa'''\n",
        "\n",
        "def detach_parameters(params): \n",
        "  return {k: v.cpu().detach().numpy() for k, v in params.items()}\n",
        "\n",
        "def retach_parameters(params): \n",
        "  return {k: torch.from_numpy(v).to(device) for k, v in params.items()}\n"
      ]
    },
    {
      "cell_type": "markdown",
      "metadata": {
        "id": "xp9TzDVC2fCK"
      },
      "source": [
        "# Permutation utility \n",
        " \n"
      ]
    },
    {
      "cell_type": "code",
      "execution_count": null,
      "metadata": {
        "id": "7kIsnNOJ8Dno"
      },
      "outputs": [],
      "source": [
        "#@title matrix2index & index2matrix\n",
        "'''\n",
        "utility for convert a permutation matrix to the index version and vice-versa.\n",
        "Used to work with the implementation of Linear Sum Assingment in scipy. \n",
        "One could also work with only the index version, which in a real application \n",
        "can be more efficient, but I thought that for an experimental\n",
        "notebook (like this one) the matrix version would be easier to understand.\n",
        "'''\n",
        "def matrix2index(P, axis='col'):\n",
        "  index = {}\n",
        "  if axis == 'row':\n",
        "    return None\n",
        "  if axis == 'col':\n",
        "    for i in range(P.shape[0]):\n",
        "      index[i] = np.argmax(P[i])\n",
        "    \n",
        "    reverse_index = {v:k for k, v in index.items()}\n",
        "  \n",
        "    return [reverse_index[i] for i in range(len(reverse_index))]\n",
        "\n",
        "\n",
        "def index2matrix(index, axis='col'):\n",
        "  len_id = len(index)\n",
        "  matrix = np.zeros((len_id, len_id))\n",
        "  temp_id = {i: index[i] for i in range(len(index))}\n",
        "  for i in range(len_id): \n",
        "    matrix[temp_id[i], i] = 1 \n",
        "  \n",
        "  return matrix"
      ]
    },
    {
      "cell_type": "code",
      "execution_count": null,
      "metadata": {
        "id": "_nS6fXad8uL2"
      },
      "outputs": [],
      "source": [
        "#@title interpolation utility\n",
        "def interpolate_2_models(coef:float, vector1:dict ,vector2:dict):\n",
        "  '''return list of interpolate models, for testing the interpolation with different parameters'''\n",
        "  assert (coef>=0.0 and coef<=1.0), f'coef val : {coef}'\n",
        "  coef1 = 1-coef\n",
        "  coef2 = coef\n",
        "  return dict(\n",
        "      [(key, coef1*vector1[key] + coef2*vector2[key] ) for key in vector1.keys()]\n",
        "  )\n"
      ]
    },
    {
      "cell_type": "code",
      "execution_count": null,
      "metadata": {
        "id": "dWq3RVd09u0f"
      },
      "outputs": [],
      "source": [
        "#@title plot_barrier\n",
        "def plot_barrier(eval_interpolated, eval_interpolated_permuted, coef_vector, title):\n",
        "\n",
        "  train_losses, test_losses = eval_interpolated['train'], eval_interpolated['test']\n",
        "  train_losses_p, test_losses_p = eval_interpolated_permuted['train'], eval_interpolated_permuted['test']\n",
        "\n",
        "  limit_up = max(chain(train_losses, test_losses, train_losses_p, test_losses_p))\n",
        "  limit_down = min(chain(train_losses, test_losses, train_losses_p, test_losses_p))\n",
        "  fig, (ax1, ax2) = plt.subplots(1, 2, figsize=(18, 6))\n",
        "  fig.suptitle(title, fontsize=20)\n",
        "  \n",
        "  ax1.set_title('original model')\n",
        "  ax1.plot(coef_vector, train_losses, '--', label='train', marker='o', color='crimson')\n",
        "  ax1.plot(coef_vector, test_losses,label='test', marker='o', color='navy')\n",
        "  ax1.set_xlabel('interpolation coeff', fontsize=16)\n",
        "  ax1.set_ylabel('loss', fontsize=16)\n",
        "  ax1.set_ylim([limit_down-0.5, limit_up+0.5])\n",
        "  ax1.legend(fontsize=16)\n",
        "\n",
        "  ax2.set_title('permuted model')\n",
        "  ax2.plot(coef_vector, train_losses_p, '--', label='train', marker='o', color='crimson')\n",
        "  ax2.plot(coef_vector, test_losses_p, label='test', marker='o', color='navy')\n",
        "  ax2.set_xlabel('interpolation coeff', fontsize=16)\n",
        "  ax2.set_ylabel('loss', fontsize=16)\n",
        "  ax2.set_ylim([limit_down-0.5, limit_up+0.5])\n",
        "  ax2.legend(fontsize=16)\n",
        "\n",
        "\n",
        "  plt.show()\n"
      ]
    },
    {
      "cell_type": "code",
      "execution_count": null,
      "metadata": {
        "id": "SaWukqNv3MWv"
      },
      "outputs": [],
      "source": [
        "#@title evaluate interpolation \n",
        "def evaluate_interpolation(data_loaders,\n",
        "                           loss_fn,\n",
        "                           model_A,\n",
        "                           model_B,\n",
        "                           coef_vect,\n",
        "                           device,                          \n",
        "                           ):\n",
        "  '''\n",
        "  calc test/train loss and accuracy for a set of interpolated models. \n",
        "  (consider that there is no restrinction over the kind of model, \n",
        "  can be the permuted ones or the original)\n",
        "  \n",
        "  '''\n",
        "  test_losses_list = []\n",
        "  train_losses_list = []\n",
        "  params_A = detach_parameters(dict(model_A.named_parameters()))\n",
        "  params_B = detach_parameters(dict(model_B.named_parameters()))\n",
        "\n",
        "  print('index | coef | test loss | test_acc')    \n",
        "\n",
        "  for index, coef in enumerate(coef_vector): \n",
        "\n",
        "    interpolated_model = copy.deepcopy(model_A)\n",
        "    interpolated_model.to(device)\n",
        "    \n",
        "    params = interpolate_2_models(coef, params_A, params_B)\n",
        "    interpolated_model.load_state_dict(retach_parameters(params))\n",
        "\n",
        "    test_acc, test_loss = test_loop(data_loaders, interpolated_model,\n",
        "                                    loss_fn, device=device,\n",
        "                                    test_set=True, print_score=False)\n",
        "    _, train_loss = test_loop(data_loaders, interpolated_model,\n",
        "                              loss_fn, device=device, \n",
        "                              test_set=False, print_score=False)\n",
        "\n",
        "    test_losses_list.append(test_loss)\n",
        "    train_losses_list.append(train_loss)\n",
        "    print(f'   {index}  | {coef:.2f} |   {test_loss:.4f}  | {test_acc:.3f}')\n",
        "  return {'train': train_losses_list, 'test': test_losses_list} \n"
      ]
    },
    {
      "cell_type": "markdown",
      "metadata": {
        "id": "IaD9X4EjvdAt"
      },
      "source": [
        "## Permutation calc:  weight_matching & utils\n",
        "\n",
        "The weight matching is the main algorithm of this notebook. The idea is to find a set of permutations that maximize the similarity between 2 models. Considering the huge number of permutation matrixes, it's impossible to run exhaustive research over all the parameters. \n",
        "\n",
        "Entezari proposed to use a local search alg. like the simulated annealing, the reference paper prefers look for a different approach.\n",
        "\\\n",
        "\\\n",
        "Indeed, they tried to find a set of permutation matrix $\\pi$ that satisfies the following optimization problem:\n",
        "\\\n",
        "\\\n",
        "\\begin{equation}\n",
        "  argmin_\\pi|| vec(\\Theta_A) - vec(\\pi(\\Theta_B) ||^2\n",
        "\\end{equation}\n",
        "\\\n",
        "where the $vec$ function return a \"vectorize\" version of the model parameters $\\Theta_A$ and $\\Theta_B$. \n",
        "\n",
        "Developing the solution of the optimization problem for all the layers, we get a SOBLAB (sum of bilinear assignments problem), which is NP-hard and does not have a polynomial time solution. \n",
        "\\\n",
        "The solution for this became searching just for one permutation for step, keeping the other fixed, selecting the best in a greedy way, and iterating the algorithm until convergence (no increase in similarity).\n",
        "\n",
        "In this way, the SOBLAB became a LAP (linear assignments problem):\n",
        "\\\n",
        "\\\n",
        "\\begin{equation}\n",
        "    argmax_{\\pi=\\{P_i\\}} <W_l^{A}, P_l W_l^{B} P_{l-1}^T>_F +  <W_{l+1}^{A}, P_{l+1} W_{l+1}^{B} P_{l}^T>_F\n",
        "\\end{equation}\n",
        "\\\n",
        "Where the subscrip F indicates the frobenius norm\n",
        "\n",
        "From this optimization problem, the paper develops this solution:\n",
        "\\\n",
        "\\\n",
        "\\begin{equation}\n",
        "    argmax_{\\pi=\\{P_i\\}} <P_l, W_l^A P_{l-1} W_l^{BT}  + W_{l+1}^{AT} P_{l+1} W_{l+1}^B >_F\n",
        "\\end{equation}\n",
        "\\\n",
        "Unfortunately, applying this solution the algorithm is unable to converge to a solution. \n",
        "In [this cell](#scrollTo=emjIFlkiZZ6v) it's possible to see the effect of using the equation from the paper for a max of 100 iterations.The similarity level for all the layers never goes to 0 (as it should).\n",
        "\\\n",
        "\\\n",
        "I'd like to underline that the paper declares clearly that <b>they do not use the solution proposed in the paper</b>, but a different implementation (not presented).\n",
        "\\\n",
        "Also, the presented solution is expressed in simple terms (mlp, without bias), and there is no reference to extending the method to a cnn network or adding a bias term.  \n",
        "\n",
        "So, after some time, i developed my \"personal\" close form solution for the optimization problem: \n",
        "\\\n",
        "\\\n",
        "\\begin{equation}\n",
        "    argmax_{\\pi=\\{P_i\\}} <P_l, W_l^B P_{l-1}^T W_l^{AT}  + W_{l+1}^{BT} P_{l+1}^T W_{l+1}^A >_F\n",
        "\\end{equation}\n",
        "\\\n",
        "I have also added the contribution of the bias term, to obtain this solution:\n",
        "\\\n",
        "\\\n",
        "\\begin{equation}\n",
        "    argmax_{\\pi=\\{P_i\\}} <P_l,  W_l^B P_{l-1}^T W_l^{AT}  + W_{l+1}^{BT} P_{l+1}^T W_{l+1}^A + b^{AT}_l b^{B}_l>_F \n",
        "\\end{equation}\n",
        "\\\n",
        "I'd also like to report that any reproduction of the paper code that i found online uses the same base code of the original code, with an easy copy-paste from the main repository. All these projects are just checking the procedure for a new mlp model. It was not possible to find an original implementation or just a test with a non-dense architecture.\n"
      ]
    },
    {
      "cell_type": "code",
      "execution_count": null,
      "metadata": {
        "id": "pJgo7tRwg4cW"
      },
      "outputs": [],
      "source": [
        "def weight_matching(A_funct, P, runs=100, silent=False): \n",
        "\n",
        "  for run in range(runs): \n",
        "    progress = False\n",
        "    for j in np.random.permutation(list(range(1, len(P)+1))): \n",
        "      A = A_funct[f'A{j}'](P)\n",
        "    \n",
        "\n",
        "      row_index, col_index = linear_sum_assignment(A, maximize=True)\n",
        "\n",
        "      p_index = matrix2index(P[f'P{j}'])\n",
        "      old_gain = np.vdot(A, np.eye(len(p_index))[p_index])\n",
        "      new_gain = np.vdot(A, np.eye(len(p_index))[col_index, :])\n",
        "\n",
        "      # Update P\n",
        "      P[f'P{j}'] = index2matrix(col_index)\n",
        "      progress = progress or new_gain > old_gain\n",
        "\n",
        "      if not silent:  print(f'run:{run} || P{j}; gain: {new_gain - old_gain}' )\n",
        "    \n",
        "    if not progress: \n",
        "      if not silent:\n",
        "        print('---------------------------')\n",
        "        print('stop progress at run : ', run)\n",
        "      break\n",
        "\n",
        "  return P"
      ]
    },
    {
      "cell_type": "code",
      "execution_count": null,
      "metadata": {
        "id": "Y3HdrTtif7Wu"
      },
      "outputs": [],
      "source": [
        "def weight_matching_close_form(close_form_sol, Params_A, Params_B, P): \n",
        "  '''function for test the close form solution obtained from the optimization problem'''\n",
        "  for run in range(100): \n",
        "    progress = False\n",
        "    for j in np.random.permutation(list(range(1, len(P)+1))): \n",
        "      A = close_form_sol[f'A{j}'](Params_A, Params_B, P)\n",
        "    \n",
        "      row_index, col_index = linear_sum_assignment(A, maximize=True)\n",
        "\n",
        "      p_index = matrix2index(P[f'P{j}'])\n",
        "      old_loss = np.vdot(A, np.eye(len(p_index))[p_index])\n",
        "      new_loss = np.vdot(A, np.eye(len(p_index))[col_index, :])\n",
        "\n",
        "      # Update P\n",
        "      P[f'P{j}'] = index2matrix(col_index)\n",
        "      progress = progress or new_loss > old_loss\n",
        "\n",
        "      print(f'run:{run} || P{j}; gain: {new_loss - old_loss}' )\n",
        "    \n",
        "    if not progress: \n",
        "      print('---------------------------')\n",
        "      print('stop progress at run : ', run)\n",
        "      break\n",
        "\n",
        "  return P\n"
      ]
    },
    {
      "cell_type": "code",
      "execution_count": null,
      "metadata": {
        "id": "5zQgM3Ztjr_P"
      },
      "outputs": [],
      "source": [
        "#@title define permutation info for permuted model\n",
        "\n",
        "def permutation_model_info(params, bias) -> dict:\n",
        "  '''\n",
        "  Return a dictionary that specifies how to permute the model to get an \n",
        "  equivalent one.\n",
        "  The dictionary will be in the form of {weight_i : (perm_row, perm_col)} where\n",
        "  perm_row and perm_col will be the str name of the matrix to pre/post multiply\n",
        "  '''\n",
        "  len_model = len(params)//2\n",
        "  perm = {}\n",
        "\n",
        "  # kernel\n",
        "  perm['dense1.weight'] = ('P1', None) \n",
        "  for i in range(2, len_model): \n",
        "    perm[f'dense{i}.weight'] = (f'P{i}', f'P{i-1}')\n",
        "  perm[f'dense{len_model}.weight'] = (None, f'P{len_model-1}')\n",
        "\n",
        "  # bias\n",
        "  if bias: \n",
        "    perm['dense1.bias'] = ('P1', None) \n",
        "    for i in range(2, len_model): \n",
        "      perm[f'dense{i}.bias'] = (f'P{i}', None)\n",
        "    perm[f'dense{len_model}.bias'] = (None, None)\n",
        "    \n",
        "  return perm\n",
        "\n"
      ]
    },
    {
      "cell_type": "code",
      "execution_count": null,
      "metadata": {
        "id": "vevhZFL4mQIY"
      },
      "outputs": [],
      "source": [
        "#@title apply permutation \n",
        "\n",
        "def apply_permutation(params, perm_info, P): \n",
        "  '''\n",
        "  params = dict of parameters of a mlp\n",
        "  perm_info = {weight_i, (P_row, P_col)}\n",
        "  P = dict as { 'P_i' : matrix_P(numpy) }\n",
        "\n",
        "  retrun new params after apply the permutation specify inside perm_info\n",
        "\n",
        "  the NotImplementedError is there in case you want to implement some other mechanism \n",
        "  to extend the code to convolutional layers\n",
        "  \n",
        "  '''\n",
        "  permuted = {}\n",
        "\n",
        "  for k, v in perm_info.items(): \n",
        "\n",
        "    if k.endswith('weight'):\n",
        "      try: \n",
        "        permuted[k] = P[v[0]] @ params[k] @ P[v[1]].T\n",
        "      except KeyError: # first or last layer\n",
        "        if not v[0]: permuted[k] = params[k] @ P[v[1]].T\n",
        "        elif not v[1]: permuted[k] = P[v[0]] @ params[k]\n",
        "        else: raise NotImplementedError \n",
        "\n",
        "    else: #bias term \n",
        "      try: \n",
        "        permuted[k] = P[v[0]] @ params[k]\n",
        "      except KeyError: #last layer\n",
        "        if not v[0]: permuted[k] = params[k]\n",
        "        else: raise NotImplementedError \n",
        "  \n",
        "  return permuted"
      ]
    },
    {
      "cell_type": "code",
      "execution_count": null,
      "metadata": {
        "id": "Elepjs-uorQg"
      },
      "outputs": [],
      "source": [
        "#@title generate empty P\n",
        "def get_empty_P_as_dict(params, bias=True):\n",
        "  '''returned dict: {'P_i' : identity_matrix}'''  \n",
        "  P = {}\n",
        "  model_len = len(params)//2\n",
        "  if not bias: model_len = len(params) \n",
        "  for i in range(1, model_len):\n",
        "    P[f'P{i}'] = np.eye(params[f'dense{i}.weight'].shape[0])\n",
        "  return P"
      ]
    },
    {
      "cell_type": "code",
      "execution_count": null,
      "metadata": {
        "id": "AP6yQx11CDk8"
      },
      "outputs": [],
      "source": [
        "#@title A_funct dictionary\n",
        "def get_A_functs(params_A, params_B):\n",
        "  '''\n",
        "  This function manages the equations for a particular couple of networks. \n",
        "  \n",
        "  It's basically a big wrapper for the context (index of matrix to calc). \n",
        "  Return a dictionary in the form of {A_i: funct}, where funct is\n",
        "  a function that calculates the matrix to pass to the linear sum solver.\n",
        "  \n",
        "  Considering that the parameters of the models A and B are fixed, \n",
        "  the only input parameter for this function will be the matrix P. \n",
        "\n",
        "  TODO: add the checker over the bias term --> for now can manage only dense mlp + bias\n",
        "  '''\n",
        "  A_funct = {}\n",
        "  # params_A contains both weight and bias, len/2 aka num of layers\n",
        "  model_len = len(params_A)//2 \n",
        "\n",
        "\n",
        "  def special_case_init(P):\n",
        "    return params_B['dense1.weight']   @ params_A['dense1.weight'].T +\\\n",
        "           params_B['dense2.weight'].T @ P['P2'].T @ params_A['dense2.weight'] +\\\n",
        "           params_A['dense1.bias'].T   @ params_B['dense1.bias']\n",
        "\n",
        "  def special_case_final(P): \n",
        "    return params_B[f'dense{model_len-1}.weight'] @ P[f'P{model_len-2}'].T @ params_A[f'dense{model_len-1}.weight'].T +\\\n",
        "           params_B[f'dense{ model_len }.weight'].T @ params_A[f'dense{model_len}.weight'] +\\\n",
        "           params_A[f'dense{model_len-1}.bias'].T  @ params_B[f'dense{model_len-1}.bias']\n",
        "\n",
        "  def iterator_over_A_funct(i):\n",
        "    #define funct to call (not first, not last layer)\n",
        "    def A(P): \n",
        "       return params_B[f'dense{  i }.weight']   @ P[f'P{i-1}'].T @ params_A[f'dense{i}.weight'].T +\\\n",
        "              params_B[f'dense{i+1}.weight'].T @ P[f'P{i+1}'].T @ params_A[f'dense{i+1}.weight'] +\\\n",
        "              params_A[f'dense{ i }.bias'].T   @ params_B[f'dense{i}.bias']\n",
        "    return A\n",
        "\n",
        "  A_funct['A1'] = special_case_init\n",
        "  for i in range(2, model_len-1):\n",
        "    A_funct[f'A{i}'] = iterator_over_A_funct(i)\n",
        "  A_funct[f'A{model_len-1}'] = special_case_final\n",
        "\n",
        "  return A_funct\n"
      ]
    },
    {
      "cell_type": "markdown",
      "metadata": {
        "id": "S_0IVAGKvNq4"
      },
      "source": [
        "#### test A_funct dynamically vs close form solution \n",
        "As reported in the previous cell, my first attempt was based on a close form solution, for a fixed dimension layer. The solution that I develop is different from the one that i found in the paper, first because the paper presents the result only in the form of MLP without bias, and then declares also to use a different implementation of the procedure presented.This cell just checks that the dynamic function and the closed form return the same result. A comparison between my close form and the close form from the paper will follow."
      ]
    },
    {
      "cell_type": "code",
      "execution_count": null,
      "metadata": {
        "id": "BmAispVipMUd"
      },
      "outputs": [],
      "source": [
        "def A1(A, B, P): \n",
        "  return B['dense1.weight'] @ A['dense1.weight'].T +\\\n",
        "         B['dense2.weight'].T @ P['P2'].T @ A['dense2.weight'] +\\\n",
        "         A['dense1.bias'].T @ B['dense1.bias']\n",
        "\n",
        "\n",
        "def A2(A, B, P): \n",
        "  return B['dense2.weight'] @P['P1'].T @ A['dense2.weight'].T +\\\n",
        "         B['dense3.weight'].T @ P['P3'].T @ A['dense3.weight'] +\\\n",
        "         A['dense2.bias'].T @ B['dense2.bias']\n",
        "\n",
        "\n",
        "\n",
        "def A3(A, B, P): \n",
        "  return (B['dense3.weight'] @ P['P2'].T @ A['dense3.weight'].T) +\\\n",
        "         (B['dense4.weight'].T @ A['dense4.weight']) +\\\n",
        "         (A['dense3.bias'].T @ B['dense3.bias'])\n",
        "\n",
        "\n",
        "close_form_sol = {\n",
        "    'A1': A1,\n",
        "    'A2': A2,\n",
        "    'A3': A3\n",
        "}\n",
        "\n",
        "model_A_temp, model_B_temp = SNet(input_size=mnist_input_size, bias=True), SNet(input_size=mnist_input_size, bias=True)\n",
        "params_A_temp = detach_parameters(copy.deepcopy(dict(model_A_temp.named_parameters())))\n",
        "params_B_temp = detach_parameters(copy.deepcopy(dict(model_B_temp.named_parameters())))\n",
        "\n",
        "P_temp = get_empty_P_as_dict(params_B_temp)\n",
        "A_funct_temp = get_A_functs(params_A_temp, params_B_temp)"
      ]
    },
    {
      "cell_type": "code",
      "execution_count": null,
      "metadata": {
        "colab": {
          "base_uri": "https://localhost:8080/"
        },
        "id": "ezx1gmMtqsae",
        "outputId": "96c93f3d-62a9-4852-ee21-6fbc68bb47ed"
      },
      "outputs": [
        {
          "data": {
            "text/plain": [
              "(True, True, True)"
            ]
          },
          "execution_count": 24,
          "metadata": {},
          "output_type": "execute_result"
        }
      ],
      "source": [
        "res_1 = close_form_sol['A1'](params_A_temp, params_B_temp, P_temp)\n",
        "res_2 = close_form_sol['A2'](params_A_temp, params_B_temp, P_temp)\n",
        "res_3 = close_form_sol['A3'](params_A_temp, params_B_temp, P_temp)\n",
        "\n",
        "res_dyn_1 = A_funct_temp['A1'](P_temp)\n",
        "res_dyn_2 = A_funct_temp['A2'](P_temp)\n",
        "res_dyn_3 = A_funct_temp['A3'](P_temp)\n",
        "\n",
        "(res_1 == res_dyn_1).all(), (res_2 == res_dyn_2).all(), (res_2 == res_dyn_2).all()\n",
        "\n",
        "#\n",
        "# should return (True x3)"
      ]
    },
    {
      "cell_type": "code",
      "execution_count": null,
      "metadata": {
        "colab": {
          "base_uri": "https://localhost:8080/"
        },
        "id": "emjIFlkiZZ6v",
        "outputId": "c68bf9e8-c0f9-472c-a394-6778919f1165"
      },
      "outputs": [
        {
          "name": "stdout",
          "output_type": "stream",
          "text": [
            "run:0 || P1; gain: 0.0\n",
            "run:0 || P2; gain: 30.609911816361254\n",
            "run:0 || P3; gain: 17.57273136551697\n",
            "run:1 || P2; gain: 14.752125177684789\n",
            "run:1 || P3; gain: 19.71912807343858\n",
            "run:1 || P1; gain: 28.19784539563408\n",
            "run:2 || P1; gain: 0.0\n",
            "run:2 || P2; gain: 30.688136386632777\n",
            "run:2 || P3; gain: 21.184568547356992\n",
            "run:3 || P2; gain: 15.754869957127168\n",
            "run:3 || P3; gain: 20.358585952964884\n",
            "run:3 || P1; gain: 17.171040106252885\n",
            "run:4 || P1; gain: 0.0\n",
            "run:4 || P2; gain: 30.347783217780556\n",
            "run:4 || P3; gain: 21.411520554094114\n",
            "run:5 || P2; gain: 14.836155991639549\n",
            "run:5 || P1; gain: 16.823261303268104\n",
            "run:5 || P3; gain: 20.60877800134421\n",
            "run:6 || P2; gain: 30.515233047871146\n",
            "run:6 || P1; gain: 17.578904500804967\n",
            "run:6 || P3; gain: 21.43161293743086\n",
            "run:7 || P3; gain: 0.0\n",
            "run:7 || P2; gain: 30.74435259063469\n",
            "run:7 || P1; gain: 17.30127931339563\n",
            "run:8 || P1; gain: 0.0\n",
            "run:8 || P2; gain: 14.678017171356931\n",
            "run:8 || P3; gain: 21.421635650364063\n",
            "run:9 || P3; gain: 0.0\n",
            "run:9 || P2; gain: 15.461792349192175\n",
            "run:9 || P1; gain: 16.209944897498943\n",
            "run:10 || P1; gain: 0.0\n",
            "run:10 || P3; gain: 21.1376069206528\n",
            "run:10 || P2; gain: 30.197201292065564\n",
            "run:11 || P1; gain: 17.431548564999584\n",
            "run:11 || P3; gain: 22.375483301753064\n",
            "run:11 || P2; gain: 31.430532914380933\n",
            "run:12 || P2; gain: 0.0\n",
            "run:12 || P3; gain: 21.934008729235952\n",
            "run:12 || P1; gain: 16.752771595827028\n",
            "run:13 || P1; gain: 0.0\n",
            "run:13 || P3; gain: 0.0\n",
            "run:13 || P2; gain: 30.696879758596378\n",
            "run:14 || P3; gain: 20.94901593549223\n",
            "run:14 || P2; gain: 15.34219365751808\n",
            "run:14 || P1; gain: 17.321082516719606\n",
            "run:15 || P2; gain: 14.984690669579408\n",
            "run:15 || P3; gain: 21.261935433768777\n",
            "run:15 || P1; gain: 16.7150321037622\n",
            "run:16 || P2; gain: 30.228269099900242\n",
            "run:16 || P1; gain: 16.21800689018835\n",
            "run:16 || P3; gain: 20.847490924366245\n",
            "run:17 || P1; gain: 0.0\n",
            "run:17 || P2; gain: 30.372938479860924\n",
            "run:17 || P3; gain: 21.650068882756585\n",
            "run:18 || P1; gain: 16.449081402037407\n",
            "run:18 || P2; gain: 31.012680350853998\n",
            "run:18 || P3; gain: 21.333848491623748\n",
            "run:19 || P3; gain: 0.0\n",
            "run:19 || P1; gain: 16.733040438622176\n",
            "run:19 || P2; gain: 29.53218567377184\n",
            "run:20 || P3; gain: 22.214545712830812\n",
            "run:20 || P1; gain: 17.101159207578014\n",
            "run:20 || P2; gain: 31.28704981204202\n",
            "run:21 || P1; gain: 15.88457522372278\n",
            "run:21 || P2; gain: 15.157850695126793\n",
            "run:21 || P3; gain: 21.410793112216307\n",
            "run:22 || P2; gain: 14.615719364452964\n",
            "run:22 || P3; gain: 19.778721883258072\n",
            "run:22 || P1; gain: 16.226584563702502\n",
            "run:23 || P2; gain: 30.32613766652967\n",
            "run:23 || P3; gain: 21.03094505082285\n",
            "run:23 || P1; gain: 17.30269438243073\n",
            "run:24 || P2; gain: 29.876996853403927\n",
            "run:24 || P1; gain: 17.233432344951552\n",
            "run:24 || P3; gain: 22.161689930251967\n",
            "run:25 || P2; gain: 29.879450762189133\n",
            "run:25 || P3; gain: 21.36269302336375\n",
            "run:25 || P1; gain: 17.124684424035728\n",
            "run:26 || P1; gain: 0.0\n",
            "run:26 || P3; gain: 0.0\n",
            "run:26 || P2; gain: 31.110954992956955\n",
            "run:27 || P3; gain: 20.750075429062754\n",
            "run:27 || P2; gain: 15.030823964997584\n",
            "run:27 || P1; gain: 16.33966833398179\n",
            "run:28 || P1; gain: 0.0\n",
            "run:28 || P3; gain: 20.096357157370274\n",
            "run:28 || P2; gain: 30.072260208879694\n",
            "run:29 || P3; gain: 21.116734199343675\n",
            "run:29 || P1; gain: 17.043555733325306\n",
            "run:29 || P2; gain: 30.746656625621117\n",
            "run:30 || P3; gain: 21.161180840123155\n",
            "run:30 || P1; gain: 16.895897342644844\n",
            "run:30 || P2; gain: 30.71005061731353\n",
            "run:31 || P1; gain: 17.59522369910608\n",
            "run:31 || P3; gain: 21.698620010620004\n",
            "run:31 || P2; gain: 30.98171561445516\n",
            "run:32 || P1; gain: 17.329931718593542\n",
            "run:32 || P2; gain: 15.478992337989713\n",
            "run:32 || P3; gain: 21.829919190127725\n",
            "run:33 || P1; gain: 15.858248437806367\n",
            "run:33 || P2; gain: 29.789696684568554\n",
            "run:33 || P3; gain: 21.468470255041744\n",
            "run:34 || P3; gain: 0.0\n",
            "run:34 || P2; gain: 15.464276403710572\n",
            "run:34 || P1; gain: 17.227815491155216\n",
            "run:35 || P2; gain: 14.424025002379153\n",
            "run:35 || P1; gain: 16.29320582722559\n",
            "run:35 || P3; gain: 21.057149390913057\n",
            "run:36 || P3; gain: 0.0\n",
            "run:36 || P1; gain: 0.0\n",
            "run:36 || P2; gain: 30.917439382457164\n",
            "run:37 || P1; gain: 17.30585697465274\n",
            "run:37 || P3; gain: 21.368058393288678\n",
            "run:37 || P2; gain: 30.496703124371034\n",
            "run:38 || P1; gain: 17.17248925495254\n",
            "run:38 || P3; gain: 21.309040494030455\n",
            "run:38 || P2; gain: 30.76074575199351\n",
            "run:39 || P1; gain: 16.763945193588114\n",
            "run:39 || P3; gain: 21.14268912922308\n",
            "run:39 || P2; gain: 30.493268673877537\n",
            "run:40 || P1; gain: 16.891118318875186\n",
            "run:40 || P3; gain: 21.898471672673278\n",
            "run:40 || P2; gain: 30.604821668158706\n",
            "run:41 || P3; gain: 21.717111643865433\n",
            "run:41 || P1; gain: 17.24547698470213\n",
            "run:41 || P2; gain: 30.950548740078165\n",
            "run:42 || P1; gain: 17.681395290888094\n",
            "run:42 || P2; gain: 15.091906509111489\n",
            "run:42 || P3; gain: 21.693783800515746\n",
            "run:43 || P1; gain: 15.718430888571422\n",
            "run:43 || P3; gain: 0.0\n",
            "run:43 || P2; gain: 30.33759513204951\n",
            "run:44 || P1; gain: 16.904617161174713\n",
            "run:44 || P3; gain: 21.09347775685216\n",
            "run:44 || P2; gain: 30.524237921488957\n",
            "run:45 || P1; gain: 17.101564326196012\n",
            "run:45 || P3; gain: 21.021280976346112\n",
            "run:45 || P2; gain: 29.168025877511948\n",
            "run:46 || P3; gain: 21.270959074957553\n",
            "run:46 || P1; gain: 17.28836561931856\n",
            "run:46 || P2; gain: 31.01717796649245\n",
            "run:47 || P1; gain: 16.96305663087491\n",
            "run:47 || P2; gain: 14.195099786920068\n",
            "run:47 || P3; gain: 21.29842739204866\n",
            "run:48 || P3; gain: 0.0\n",
            "run:48 || P1; gain: 15.817663065992523\n",
            "run:48 || P2; gain: 29.90491665184868\n",
            "run:49 || P3; gain: 21.37624266445343\n",
            "run:49 || P2; gain: 15.640592339166412\n",
            "run:49 || P1; gain: 16.712924309900245\n",
            "run:50 || P3; gain: 20.489931142583494\n",
            "run:50 || P2; gain: 30.443195259356703\n",
            "run:50 || P1; gain: 17.421648387320054\n",
            "run:51 || P3; gain: 20.873980883218312\n",
            "run:51 || P2; gain: 30.182270495375608\n",
            "run:51 || P1; gain: 17.163174120775942\n",
            "run:52 || P2; gain: 15.421210798934124\n",
            "run:52 || P1; gain: 16.351335418484993\n",
            "run:52 || P3; gain: 21.52996897270144\n",
            "run:53 || P3; gain: 0.0\n",
            "run:53 || P1; gain: 0.0\n",
            "run:53 || P2; gain: 30.785565255190747\n",
            "run:54 || P2; gain: 0.0\n",
            "run:54 || P3; gain: 21.591706098208057\n",
            "run:54 || P1; gain: 16.20014360915487\n",
            "run:55 || P2; gain: 30.072977238175287\n",
            "run:55 || P3; gain: 21.988255000065074\n",
            "run:55 || P1; gain: 16.854717584177937\n",
            "run:56 || P2; gain: 30.205656562239334\n",
            "run:56 || P3; gain: 21.503556672181954\n",
            "run:56 || P1; gain: 17.858126836754277\n",
            "run:57 || P2; gain: 30.79972153710033\n",
            "run:57 || P3; gain: 21.47866854665682\n",
            "run:57 || P1; gain: 17.4663778641985\n",
            "run:58 || P3; gain: 0.0\n",
            "run:58 || P2; gain: 31.286245368801925\n",
            "run:58 || P1; gain: 16.244599870805533\n",
            "run:59 || P3; gain: 21.61971088440514\n",
            "run:59 || P2; gain: 30.08367073940614\n",
            "run:59 || P1; gain: 17.39247877499109\n",
            "run:60 || P2; gain: 14.908055644744561\n",
            "run:60 || P1; gain: 15.88506605628579\n",
            "run:60 || P3; gain: 21.631941302861208\n",
            "run:61 || P2; gain: 30.306581833428673\n",
            "run:61 || P1; gain: 16.87036207332445\n",
            "run:61 || P3; gain: 21.40031202395107\n",
            "run:62 || P2; gain: 30.382963832346302\n",
            "run:62 || P1; gain: 17.035380089154696\n",
            "run:62 || P3; gain: 21.1746313426084\n",
            "run:63 || P2; gain: 30.554439256569992\n",
            "run:63 || P3; gain: 21.69541884909153\n",
            "run:63 || P1; gain: 15.902172304935817\n",
            "run:64 || P3; gain: 0.0\n",
            "run:64 || P2; gain: 30.768089563166875\n",
            "run:64 || P1; gain: 16.900523470498015\n",
            "run:65 || P1; gain: 0.0\n",
            "run:65 || P2; gain: 14.42327378153577\n",
            "run:65 || P3; gain: 21.77694557967273\n",
            "run:66 || P3; gain: 0.0\n",
            "run:66 || P2; gain: 15.448580519883015\n",
            "run:66 || P1; gain: 17.37894210510651\n",
            "run:67 || P2; gain: 14.907162929722652\n",
            "run:67 || P1; gain: 15.766107163284364\n",
            "run:67 || P3; gain: 21.85587248297033\n",
            "run:68 || P3; gain: 0.0\n",
            "run:68 || P1; gain: 0.0\n",
            "run:68 || P2; gain: 30.278647807148154\n",
            "run:69 || P2; gain: 0.0\n",
            "run:69 || P1; gain: 16.992140684963086\n",
            "run:69 || P3; gain: 21.74138876964152\n",
            "run:70 || P1; gain: 0.0\n",
            "run:70 || P3; gain: 0.0\n",
            "run:70 || P2; gain: 30.55153666601353\n",
            "run:71 || P2; gain: 0.0\n",
            "run:71 || P3; gain: 21.83020689343309\n",
            "run:71 || P1; gain: 17.126663006691178\n",
            "run:72 || P3; gain: 0.0\n",
            "run:72 || P1; gain: 0.0\n",
            "run:72 || P2; gain: 30.473789187338927\n",
            "run:73 || P2; gain: 0.0\n",
            "run:73 || P1; gain: 16.975395355178314\n",
            "run:73 || P3; gain: 21.70960411319771\n",
            "run:74 || P2; gain: 29.850886985103607\n",
            "run:74 || P1; gain: 16.616793477705627\n",
            "run:74 || P3; gain: 21.691298205268797\n",
            "run:75 || P1; gain: 0.0\n",
            "run:75 || P2; gain: 29.835223923276533\n",
            "run:75 || P3; gain: 21.836464261196006\n",
            "run:76 || P2; gain: 15.335145884901412\n",
            "run:76 || P1; gain: 16.908279626918926\n",
            "run:76 || P3; gain: 19.85257704388085\n",
            "run:77 || P3; gain: 0.0\n",
            "run:77 || P2; gain: 30.813680377101722\n",
            "run:77 || P1; gain: 16.900221975721276\n",
            "run:78 || P2; gain: 14.848165169949507\n",
            "run:78 || P1; gain: 16.06637635926891\n",
            "run:78 || P3; gain: 21.55704327796811\n",
            "run:79 || P3; gain: 0.0\n",
            "run:79 || P1; gain: 0.0\n",
            "run:79 || P2; gain: 30.89041646583851\n",
            "run:80 || P2; gain: 0.0\n",
            "run:80 || P1; gain: 17.164392234985808\n",
            "run:80 || P3; gain: 21.397062063285837\n",
            "run:81 || P2; gain: 30.49813467640379\n",
            "run:81 || P1; gain: 16.248000607259268\n",
            "run:81 || P3; gain: 21.711303969556603\n",
            "run:82 || P1; gain: 0.0\n",
            "run:82 || P3; gain: 0.0\n",
            "run:82 || P2; gain: 29.33448310074036\n",
            "run:83 || P2; gain: 0.0\n",
            "run:83 || P3; gain: 21.220040855551872\n",
            "run:83 || P1; gain: 16.81544374322788\n",
            "run:84 || P1; gain: 0.0\n",
            "run:84 || P2; gain: 30.920891260132194\n",
            "run:84 || P3; gain: 22.02543142788479\n",
            "run:85 || P2; gain: 14.799682279235846\n",
            "run:85 || P1; gain: 17.27843640108402\n",
            "run:85 || P3; gain: 20.2750101560421\n",
            "run:86 || P3; gain: 0.0\n",
            "run:86 || P2; gain: 30.64178520434523\n",
            "run:86 || P1; gain: 16.364887626837294\n",
            "run:87 || P3; gain: 21.597939184237866\n",
            "run:87 || P1; gain: 0.0\n",
            "run:87 || P2; gain: 30.35405625296697\n",
            "run:88 || P2; gain: 0.0\n",
            "run:88 || P1; gain: 17.09941491546331\n",
            "run:88 || P3; gain: 21.32919145636077\n",
            "run:89 || P2; gain: 31.316708983434644\n",
            "run:89 || P3; gain: 21.60177002054168\n",
            "run:89 || P1; gain: 16.496283680566517\n",
            "run:90 || P2; gain: 30.082691816905204\n",
            "run:90 || P1; gain: 16.661453632665193\n",
            "run:90 || P3; gain: 21.557298243473937\n",
            "run:91 || P3; gain: 0.0\n",
            "run:91 || P2; gain: 30.69972118490447\n",
            "run:91 || P1; gain: 16.40299873112352\n",
            "run:92 || P2; gain: 14.497656689468037\n",
            "run:92 || P1; gain: 16.166369699797848\n",
            "run:92 || P3; gain: 21.446906083119792\n",
            "run:93 || P1; gain: 0.0\n",
            "run:93 || P2; gain: 29.779906779931867\n",
            "run:93 || P3; gain: 21.114450057559107\n",
            "run:94 || P1; gain: 17.47001755800154\n",
            "run:94 || P3; gain: 0.0\n",
            "run:94 || P2; gain: 30.739528520175078\n",
            "run:95 || P3; gain: 21.79896439739901\n",
            "run:95 || P2; gain: 15.728074006718579\n",
            "run:95 || P1; gain: 16.85689068398859\n",
            "run:96 || P2; gain: 14.875850951367337\n",
            "run:96 || P3; gain: 22.378316202017665\n",
            "run:96 || P1; gain: 16.39329967111729\n",
            "run:97 || P1; gain: 0.0\n",
            "run:97 || P3; gain: 0.0\n",
            "run:97 || P2; gain: 31.524294211118498\n",
            "run:98 || P1; gain: 17.238591106926847\n",
            "run:98 || P3; gain: 21.08325730031346\n",
            "run:98 || P2; gain: 30.816162077826807\n",
            "run:99 || P1; gain: 17.655378703001155\n",
            "run:99 || P2; gain: 15.067154012204814\n",
            "run:99 || P3; gain: 21.631779128362247\n"
          ]
        }
      ],
      "source": [
        "#@title Paper equation test : No Convergence\n",
        "\n",
        "#A_funct paper for MLP no bias\n",
        "def A1(A, B, P): \n",
        "  return A['dense1.weight'] @ B['dense1.weight'].T +\\\n",
        "         A['dense2.weight'].T @ P['P2'] @ A['dense2.weight'] \n",
        "         \n",
        "\n",
        "def A2(A, B, P): \n",
        "  return A['dense2.weight'] @ P['P1'] @ B['dense2.weight'].T +\\\n",
        "         A['dense3.weight'].T @ P['P3'] @ B['dense3.weight']\n",
        "\n",
        "\n",
        "def A3(A, B, P): \n",
        "  return (A['dense3.weight'] @ P['P2'] @ A['dense3.weight'].T) +\\\n",
        "         (A['dense4.weight'].T @ A['dense4.weight']) \n",
        "\n",
        "\n",
        "close_form_sol = {\n",
        "    'A1': A1,\n",
        "    'A2': A2,\n",
        "    'A3': A3\n",
        "}\n",
        "\n",
        "#sample model: \n",
        "model_A_temp, model_B_temp = MNet(input_size=mnist_input_size, bias=False), MNet(input_size=mnist_input_size, bias=False)\n",
        "params_A_temp, params_B_temp = dict(model_A_temp.named_parameters()), dict(model_B_temp.named_parameters())\n",
        "params_A_temp, params_B_temp = detach_parameters(params_A_temp), detach_parameters(params_B_temp)\n",
        "\n",
        "P_temp = get_empty_P_as_dict(params_B_temp, bias=False)\n",
        "P_temp.keys()\n",
        "\n",
        "P_temp_new = weight_matching_close_form(close_form_sol, params_A_temp, params_B_temp, P_temp)"
      ]
    },
    {
      "cell_type": "markdown",
      "source": [
        "As we can see from the number of iterations (100), the merging doesn't reach the convergence. The procedure will stop because it will reach a maximum number of iterations. \n",
        "\\\n",
        "\\\n",
        "In the next cell there is a check over all the previous defined functions. We can see that the procedure will stop in a few steps, reaching the convergence"
      ],
      "metadata": {
        "id": "obH4zeLzIaiM"
      }
    },
    {
      "cell_type": "code",
      "execution_count": null,
      "metadata": {
        "colab": {
          "base_uri": "https://localhost:8080/"
        },
        "id": "49ykIBAIiUsc",
        "outputId": "45ac6b23-666f-492a-b927-c0f1785d53e6",
        "cellView": "form"
      },
      "outputs": [
        {
          "name": "stdout",
          "output_type": "stream",
          "text": [
            "run:0 || P3; gain: 3.2144292725980534\n",
            "run:0 || P1; gain: 4.496566487456467\n",
            "run:0 || P2; gain: 0.29520614341560325\n",
            "run:1 || P2; gain: 0.0\n",
            "run:1 || P3; gain: 0.3706299721560411\n",
            "run:1 || P1; gain: 0.41480348798920286\n",
            "run:2 || P3; gain: 0.0\n",
            "run:2 || P1; gain: 0.0\n",
            "run:2 || P2; gain: 0.10047740198398092\n",
            "run:3 || P2; gain: 0.0\n",
            "run:3 || P3; gain: 0.04344483555016154\n",
            "run:3 || P1; gain: 0.3293022481779051\n",
            "run:4 || P1; gain: 0.0\n",
            "run:4 || P2; gain: 0.0\n",
            "run:4 || P3; gain: 0.0\n",
            "---------------------------\n",
            "stop progress at run :  4\n"
          ]
        }
      ],
      "source": [
        "#@title Random test\n",
        "# just a cell for check that all the function works \n",
        "# no train over this model \n",
        "model_A, model_B = SNet(mnist_input_size, bias=True), SNet(mnist_input_size, bias=True)\n",
        "model_A, model_B = model_A.to(device), model_B.to(device)\n",
        "loss_fn = nn.CrossEntropyLoss().to(device)\n",
        "params_A, params_B = dict(model_A.named_parameters()), dict(model_B.named_parameters())\n",
        "params_A, params_B = detach_parameters(params_A), detach_parameters(params_B)\n",
        "\n",
        "P = get_empty_P_as_dict(params_B)\n",
        "A_funct = get_A_functs(params_A, params_B)\n",
        "info_perm = permutation_model_info(params_B, bias=True)\n",
        "\n",
        "new_P = weight_matching(A_funct, P)\n",
        "\n",
        "params_B_permuted = apply_permutation(params_B, info_perm, P)\n"
      ]
    },
    {
      "cell_type": "code",
      "execution_count": null,
      "metadata": {
        "id": "vs1VRatm8IrR"
      },
      "outputs": [],
      "source": [
        "#@title git_merge \n",
        "def git_merge(A, B, coef=0.5, silent=False):\n",
        "  '''\n",
        "   git_merge funct: merge 2 models after the permutation of the weight of the B model.\n",
        "\n",
        "  Just utility funct, used in the final part of the notebook for testing a\n",
        "  simulation over sub-dataset (merge many). \n",
        "  \n",
        "  It can be considered a wrapper over all the utilities defined above.\n",
        "  \n",
        "  '''\n",
        "  returned_model = copy.deepcopy(A)\n",
        "  params_A = copy.deepcopy(dict(A.named_parameters()))\n",
        "  params_B = copy.deepcopy(dict(B.named_parameters()))\n",
        "  params_A, params_B = detach_parameters(params_A), detach_parameters(params_B)\n",
        "\n",
        "  P = get_empty_P_as_dict(params_B)\n",
        "  A_funct = get_A_functs(params_A, params_B)\n",
        "  info_perm = permutation_model_info(params_B, bias=True)\n",
        "  \n",
        "  P = weight_matching(A_funct, P, silent=silent)\n",
        "\n",
        "  \n",
        "  params_B_permuted = apply_permutation(params_B, info_perm, P)\n",
        "  new_params = interpolate_2_models(coef, params_A, params_B_permuted)\n",
        "  returned_model.load_state_dict(retach_parameters(new_params))\n",
        "\n",
        "\n",
        "  return returned_model\n",
        "\n"
      ]
    },
    {
      "cell_type": "markdown",
      "metadata": {
        "id": "yTiS04CwJdvm"
      },
      "source": [
        "## Multiple merging\n",
        "In the [appendix (A.10)](https://https://arxiv.org/pdf/2209.04836.pdf#subsection.A.10), the paper proposes an extension of the weight merging procedure for merging a set of N models. This section contains all the utilities for this task.\n",
        "\n",
        "- average_multiple_model : return a new model made of the average params of the input\n",
        "- l2_similarity, cosine_similarity : return the similarity between 2 model params\n",
        "- git_merge_many: extension of weights matching (define in appendix of git-Rebasis). See next cells for the pseudocode"
      ]
    },
    {
      "cell_type": "code",
      "execution_count": null,
      "metadata": {
        "id": "7oPhogKhA1qj"
      },
      "outputs": [],
      "source": [
        "#@title average model\n",
        "def average_multiple_model(models): \n",
        "  \"\"\"\n",
        "  models : list of models\n",
        "  returned : a new model with parameters equals to the avg of models\n",
        "  \"\"\"\n",
        "  avg_model = copy.deepcopy(models[0])\n",
        "  params_avg = detach_parameters(dict(avg_model.named_parameters()))\n",
        "\n",
        "  num_models = len(models)\n",
        "  parameters = []\n",
        "  for i in range(num_models): \n",
        "    parameters.append(detach_parameters(dict(models[i].named_parameters())))\n",
        "  \n",
        "\n",
        "  for k in params_avg.keys(): \n",
        "    for i in range(num_models): \n",
        "      params_avg[k] += (parameters[i][k] / num_models)\n",
        "  \n",
        "\n",
        "  avg_model.load_state_dict(retach_parameters(params_avg))\n",
        "  return avg_model"
      ]
    },
    {
      "cell_type": "code",
      "execution_count": null,
      "metadata": {
        "id": "csbPg_CLp30a"
      },
      "outputs": [],
      "source": [
        "#@title calc distance between model \n",
        "\n",
        "def l2_similarity(m1, m2):\n",
        "  d1 = detach_parameters(dict(m1.named_parameters()))\n",
        "  d2 = detach_parameters(dict(m2.named_parameters()))\n",
        "  \n",
        "  distance = np.sqrt(sum([np.sum((d1[k] - d2[k])**2) for k in d1.keys()]))\n",
        "  return 1 / (1 + distance)\n",
        "\n",
        "\n",
        "def cosine_similarity(m1, m2):\n",
        "  d1 = detach_parameters(dict(m1.named_parameters()))\n",
        "  d2 = detach_parameters(dict(m2.named_parameters()))\n",
        "  keys = d1.keys()\n",
        "\n",
        "  dot_product = sum([np.vdot(d1[k], d2[k]) for k in keys])\n",
        "  norm1 = np.sqrt(sum([np.vdot(d1[k], d1[k]) for k in keys]))\n",
        "  norm2 = np.sqrt(sum([np.vdot(d2[k], d2[k]) for k in keys]))\n",
        "  return dot_product / (norm1 * norm2)"
      ]
    },
    {
      "cell_type": "markdown",
      "source": [
        "The git_merge_many function implements the \"MergeMany\" algorithm described in appendix A.10 of the main paper.Considering a set of models, the algorithm removes randomly from the list and averages the parameters of the remaining models. Then it will call the weight_matching procedure \"git_merge\" for matching the weight of the average model with the selected one. After that, the selected model is substituted for the permuted one. The entire procedure is done until convergence, but the convergence type is not defined, so i test both l2_similarity and cosine_similarity. Both cases return me the same number of iteration.  Finaly, the algorithm return the average of the models in the list.Dettails over the result of this procedure and discusses it in the section [\"Multiple Merge\"](#scrollTo=XnZVLHZE3pDV), at the end of the notebook.\n",
        "\n",
        "![merge_many.png](data:image/png;base64,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)"
      ],
      "metadata": {
        "id": "Ftr_BgU9X0hh"
      }
    },
    {
      "cell_type": "code",
      "execution_count": null,
      "metadata": {
        "id": "GFbq0L8XBlbE"
      },
      "outputs": [],
      "source": [
        "#@title git merge many\n",
        "def git_merge_many(models, runs=100, digit=4): \n",
        "\n",
        "  print(f'GIT MERGE OVER {len(models)} MODELS')\n",
        "  for run in range(runs): \n",
        "    progress = False\n",
        "        \n",
        "    for i in np.random.permutation(list(range(len(models)))): \n",
        "      \n",
        "      m_avg = average_multiple_model(models[:i] + models[i+1:])    \n",
        "      new_model = git_merge(m_avg, models[i], silent=True)\n",
        "      \n",
        "      #cos similarity max=1, min=0\n",
        "      old_cos = round(cosine_similarity(models[i], m_avg), digit)\n",
        "      new_cos = round(cosine_similarity(new_model, m_avg), digit)\n",
        "      \n",
        "      #l2 norm\n",
        "      #old_distance = round(l2_similarity(m_avg, models[i]), digit)\n",
        "      #new_distance = round(l2_similarity(m_avg, new_model), digit)\n",
        "      \n",
        "      models[i] = new_model\n",
        "      \n",
        "      progress = progress or (old_cos < new_cos)\n",
        "      print(f'sub_run:{run} |P(model{i})| similarity_gain: {round((new_cos - old_cos), digit)} | progress: {progress}')\n",
        "\n",
        "    if not progress: \n",
        "      print('---------------------------')\n",
        "      print('CONVERGENCE AT RUN : ', run, '\\n')\n",
        "      break\n",
        "  return average_multiple_model(models)\n",
        "\n",
        "    "
      ]
    },
    {
      "cell_type": "markdown",
      "source": [
        "<h1>Experiments</h1>"
      ],
      "metadata": {
        "id": "CxLWE5El9rZM"
      }
    },
    {
      "cell_type": "markdown",
      "metadata": {
        "id": "QtAH5cus3Isu"
      },
      "source": [
        "# small net over mnist, fashion\n",
        "First test over a trained model, the SNet contains 4 dense layers with at most 50 neurons for each layer. "
      ]
    },
    {
      "cell_type": "code",
      "execution_count": null,
      "metadata": {
        "id": "tzmSewmvacFW"
      },
      "outputs": [],
      "source": [
        "model_A_mnist, model_B_mnist = SNet(mnist_input_size, bias=True), SNet(mnist_input_size, bias=True)\n",
        "model_A_fashion, model_B_fashion = SNet(mnist_input_size, bias=True), SNet(mnist_input_size, bias=True)\n",
        "\n",
        "model_A_mnist = model_A_mnist.to(device)\n",
        "model_B_mnist = model_B_mnist.to(device)\n",
        "#--------------------------------------\n",
        "model_A_fashion = model_A_fashion.to(device)\n",
        "model_B_fashion = model_B_fashion.to(device)\n",
        "#--------------------------------------\n",
        "\n",
        "# consider other loss --> hinge Loss \n",
        "loss_fn = nn.CrossEntropyLoss().to(device)\n",
        "epochs = 100\n",
        "\n",
        "optimizer_A_mnist = optim.Adam(model_A_mnist.parameters())\n",
        "optimizer_B_mnist = optim.Adam(model_B_mnist.parameters())\n",
        "#--------------------------------------\n",
        "optimizer_A_fashion = optim.Adam(model_A_fashion.parameters())\n",
        "optimizer_B_fashion = optim.Adam(model_B_fashion.parameters())\n",
        "#--------------------------------------"
      ]
    },
    {
      "cell_type": "code",
      "execution_count": null,
      "metadata": {
        "id": "_VTeIWR9asUi"
      },
      "outputs": [],
      "source": [
        "train_target_small = [\n",
        "    ('model_A_mnist', model_A_mnist, data_loaders['mnist']['train'], optimizer_A_mnist), \n",
        "    ('model_B_mnist', model_B_mnist, data_loaders['mnist']['train'], optimizer_B_mnist), \n",
        "\n",
        "    ('model_A_fashion', model_A_fashion, data_loaders['fashion']['train'], optimizer_A_fashion),\n",
        "    ('model_B_fashion', model_B_fashion, data_loaders['fashion']['train'], optimizer_B_fashion), \n",
        "              ]"
      ]
    },
    {
      "cell_type": "code",
      "execution_count": null,
      "metadata": {
        "id": "0xdDqk2VbzHV"
      },
      "outputs": [],
      "source": [
        "result_loss_small = defaultdict(list)\n",
        "\n",
        "for (name, model, loader, opt) in train_target_small: \n",
        "  scaler = GradScaler() #prevent gradient to underflow\n",
        "  print(f'{name = }')\n",
        "  for epoch in tqdm.tqdm(range(epochs)): \n",
        "    result_epoch = train_loop(loader, model, \n",
        "                              loss_fn, opt,\n",
        "                              scaler,\n",
        "                              print_score=False,\n",
        "                              return_loss=True)\n",
        "    result_loss_small[name].append(result_epoch)\n",
        "  torch.save(model.state_dict(), f'SNet_{name}_Adam.pt')"
      ]
    },
    {
      "cell_type": "code",
      "execution_count": null,
      "metadata": {
        "colab": {
          "base_uri": "https://localhost:8080/"
        },
        "id": "is8SYPqApMTg",
        "outputId": "cbc651fb-c937-407d-9ae4-347e846a18b5"
      },
      "outputs": [
        {
          "data": {
            "text/plain": [
              "<All keys matched successfully>"
            ]
          },
          "execution_count": 58,
          "metadata": {},
          "output_type": "execute_result"
        }
      ],
      "source": [
        "sub_path = path + '/SNet/'\n",
        "model_A_mnist.load_state_dict(torch.load(sub_path + 'SNet_model_A_mnist_Adam.pt'), map_location=device)\n",
        "model_B_mnist.load_state_dict(torch.load(sub_path + 'SNet_model_B_mnist_Adam.pt'), map_location=device)\n",
        "\n",
        "model_A_fashion.load_state_dict(torch.load(sub_path + 'SNet_model_A_fashion_Adam.pt'), map_location=device)\n",
        "model_B_fashion.load_state_dict(torch.load(sub_path + 'SNet_model_B_fashion_Adam.pt'), map_location=device)"
      ]
    },
    {
      "cell_type": "code",
      "execution_count": null,
      "metadata": {
        "id": "fBPs7sRtPLTP"
      },
      "outputs": [],
      "source": [
        "#generic coef of parameters for interpolation \n",
        "coef_vector = np.linspace(start=0.0, stop=1.0, num=10)"
      ]
    },
    {
      "cell_type": "markdown",
      "metadata": {
        "id": "q-SWtjzxAIc-"
      },
      "source": [
        "### mnist"
      ]
    },
    {
      "cell_type": "code",
      "execution_count": null,
      "metadata": {
        "colab": {
          "base_uri": "https://localhost:8080/"
        },
        "id": "Ul8j5i5bdaSZ",
        "outputId": "d105a0ba-deba-45b0-a6e2-084aaaaf822f"
      },
      "outputs": [
        {
          "name": "stdout",
          "output_type": "stream",
          "text": [
            "Eval on test: \n",
            " Accuracy: 97.4%, Avg loss: 0.211897 \n",
            "\n",
            "Eval on test: \n",
            " Accuracy: 96.8%, Avg loss: 0.288618 \n",
            "\n"
          ]
        }
      ],
      "source": [
        "test_loop(data_loaders['mnist'], model_A_mnist, loss_fn, test_set=True, device=device)\n",
        "test_loop(data_loaders['mnist'], model_B_mnist, loss_fn, test_set=True, device=device)"
      ]
    },
    {
      "cell_type": "code",
      "execution_count": null,
      "metadata": {
        "colab": {
          "base_uri": "https://localhost:8080/"
        },
        "id": "Qhius9g_l22d",
        "outputId": "0a4e3bba-0d65-4c43-8ab4-ff46ffad5d86"
      },
      "outputs": [
        {
          "name": "stdout",
          "output_type": "stream",
          "text": [
            "run:0 || P1; gain: 982.4390106535202\n",
            "run:0 || P2; gain: 62.219292408888755\n",
            "run:0 || P3; gain: 32.97991719567089\n",
            "run:1 || P2; gain: 12.073492276879335\n",
            "run:1 || P3; gain: 3.945149566709773\n",
            "run:1 || P1; gain: 4.1647983228778\n",
            "run:2 || P1; gain: 0.0\n",
            "run:2 || P2; gain: 1.4966277913999022\n",
            "run:2 || P3; gain: 0.0\n",
            "run:3 || P2; gain: 0.0\n",
            "run:3 || P3; gain: 0.0\n",
            "run:3 || P1; gain: 0.0\n",
            "---------------------------\n",
            "stop progress at run :  3\n",
            "Permuted model performance: \n",
            "Eval on test: \n",
            " Accuracy: 80.4%, Avg loss: 1.592895 \n",
            "\n",
            "evaluate interpolation original parameters: \n",
            "index | coef | test loss | test_acc\n",
            "   0  | 0.00 |   0.2119  | 97.360\n",
            "   1  | 0.11 |   0.1778  | 96.730\n",
            "   2  | 0.22 |   0.3666  | 90.280\n",
            "   3  | 0.33 |   1.4956  | 61.480\n",
            "   4  | 0.44 |   2.9797  | 33.100\n",
            "   5  | 0.56 |   2.8354  | 36.210\n",
            "   6  | 0.67 |   1.4445  | 64.420\n",
            "   7  | 0.78 |   0.5008  | 87.980\n",
            "   8  | 0.89 |   0.2354  | 96.050\n",
            "   9  | 1.00 |   0.2886  | 96.820\n",
            "\n",
            "evaluate interpoalitoin permuted parameters: \n",
            "index | coef | test loss | test_acc\n",
            "   0  | 0.00 |   0.2119  | 97.360\n",
            "   1  | 0.11 |   0.2018  | 97.380\n",
            "   2  | 0.22 |   0.2127  | 96.850\n",
            "   3  | 0.33 |   0.2869  | 94.980\n",
            "   4  | 0.44 |   0.4856  | 91.100\n",
            "   5  | 0.56 |   0.7726  | 87.360\n",
            "   6  | 0.67 |   1.0819  | 84.060\n",
            "   7  | 0.78 |   1.3496  | 81.980\n",
            "   8  | 0.89 |   1.5296  | 81.050\n",
            "   9  | 1.00 |   1.5929  | 80.400\n"
          ]
        }
      ],
      "source": [
        "permuted_B_mnist = git_merge(model_A_mnist, model_B_mnist, silent=False)\n",
        "print('Permuted model performance: ')\n",
        "test_loop(data_loaders['mnist'], permuted_B_mnist, loss_fn, test_set=True, device=device)\n",
        "\n",
        "print('evaluate interpolation original parameters: ')\n",
        "eval_dict_non_permuted = evaluate_interpolation(data_loaders['mnist'], \n",
        "                                                loss_fn,\n",
        "                                                model_A_mnist, model_B_mnist,\n",
        "                                                coef_vector, device=device)\n",
        "\n",
        "print('\\nevaluate interpoalitoin permuted parameters: ')\n",
        "eval_dict_permuted = evaluate_interpolation(data_loaders['mnist'],\n",
        "                                            loss_fn,\n",
        "                                            model_A_mnist, permuted_B_mnist, \n",
        "                                            coef_vector, device=device)"
      ]
    },
    {
      "cell_type": "code",
      "execution_count": null,
      "metadata": {
        "colab": {
          "base_uri": "https://localhost:8080/",
          "height": 436
        },
        "id": "tAjsjjE5oibK",
        "outputId": "c5bf67a2-9458-4563-8116-1fda51552efe"
      },
      "outputs": [
        {
          "data": {
            "image/png": "[encoded data removed]",
            "text/plain": [
              "<Figure size 1296x432 with 2 Axes>"
            ]
          },
          "metadata": {
            "needs_background": "light"
          },
          "output_type": "display_data"
        }
      ],
      "source": [
        "plot_barrier(eval_dict_non_permuted, eval_dict_permuted, coef_vector, 'mnist_small')"
      ]
    },
    {
      "cell_type": "markdown",
      "source": [
        "Still, here we can check the first requirement for this method: a net should be wider than usual. Although the singular models achieve good performance over the Mnist dataset (accuracy = 97%, 96%), the permuted model gets an accuracy lower  than the original (80%) and the average loss increases.\n",
        "\\\n",
        "In any case, the permuted model lies in a section where it's easier to interpolate the model, as we can see from the plot about the barrier, that disappears. The \"only\" problem here is the absence of a linear path."
      ],
      "metadata": {
        "id": "a7opc4DPioZX"
      }
    },
    {
      "cell_type": "markdown",
      "metadata": {
        "id": "5TE6fwD5AS4a"
      },
      "source": [
        "### Fashion"
      ]
    },
    {
      "cell_type": "markdown",
      "metadata": {
        "id": "WHbKl50CrURt"
      },
      "source": [
        "In this second test we explored the same model over a more \"complex\" dataset, just to see if we get the same result as the mnist dataset. As we can see in the following plot, the result will be the same.  "
      ]
    },
    {
      "cell_type": "code",
      "execution_count": null,
      "metadata": {
        "colab": {
          "base_uri": "https://localhost:8080/"
        },
        "id": "qidAonsJPUe0",
        "outputId": "f34a471f-789e-4f8b-da44-2e60619388bb"
      },
      "outputs": [
        {
          "name": "stdout",
          "output_type": "stream",
          "text": [
            "Eval on test: \n",
            " Accuracy: 87.5%, Avg loss: 0.597280 \n",
            "\n",
            "Eval on test: \n",
            " Accuracy: 87.2%, Avg loss: 0.594700 \n",
            "\n"
          ]
        }
      ],
      "source": [
        "test_loop(data_loaders['fashion'], model_A_fashion, loss_fn, test_set=True, device=device)\n",
        "test_loop(data_loaders['fashion'], model_B_fashion, loss_fn, test_set=True, device=device)"
      ]
    },
    {
      "cell_type": "code",
      "execution_count": null,
      "metadata": {
        "colab": {
          "base_uri": "https://localhost:8080/"
        },
        "id": "Tm0nlaHmPa9Y",
        "outputId": "7d719106-990e-43d0-92e7-05e7ad612f28"
      },
      "outputs": [
        {
          "name": "stdout",
          "output_type": "stream",
          "text": [
            "run:0 || P1; gain: 1205.5880126059856\n",
            "run:0 || P2; gain: 59.790645862198915\n",
            "run:0 || P3; gain: 44.40863471178899\n",
            "run:1 || P2; gain: 12.767317736634823\n",
            "run:1 || P1; gain: 1.932695494631389\n",
            "run:1 || P3; gain: 1.374046672334174\n",
            "run:2 || P2; gain: 1.1692502982442647\n",
            "run:2 || P1; gain: 0.0\n",
            "run:2 || P3; gain: 0.1414792623098151\n",
            "run:3 || P3; gain: 0.0\n",
            "run:3 || P2; gain: 0.0\n",
            "run:3 || P1; gain: 0.0\n",
            "---------------------------\n",
            "stop progress at run :  3\n",
            "Permuted model performance: \n",
            "Eval on test: \n",
            " Accuracy: 61.3%, Avg loss: 1.223640 \n",
            "\n",
            "evaluate interpolation original parameters: \n",
            "index | coef | test loss | test_acc\n",
            "   0  | 0.00 |   0.5973  | 87.460\n",
            "   1  | 0.11 |   0.5918  | 84.050\n",
            "   2  | 0.22 |   0.8763  | 75.130\n",
            "   3  | 0.33 |   2.2341  | 48.510\n",
            "   4  | 0.44 |   3.6950  | 30.140\n",
            "   5  | 0.56 |   3.2877  | 26.910\n",
            "   6  | 0.67 |   1.6323  | 51.320\n",
            "   7  | 0.78 |   0.7657  | 75.770\n",
            "   8  | 0.89 |   0.5261  | 85.320\n",
            "   9  | 1.00 |   0.5947  | 87.220\n",
            "\n",
            "evaluate interpoalitoin permuted parameters: \n",
            "index | coef | test loss | test_acc\n",
            "   0  | 0.00 |   0.5973  | 87.460\n",
            "   1  | 0.11 |   0.5278  | 87.440\n",
            "   2  | 0.22 |   0.5150  | 86.470\n",
            "   3  | 0.33 |   0.5522  | 84.230\n",
            "   4  | 0.44 |   0.6357  | 80.630\n",
            "   5  | 0.56 |   0.7523  | 76.010\n",
            "   6  | 0.67 |   0.8917  | 71.070\n",
            "   7  | 0.78 |   1.0339  | 66.650\n",
            "   8  | 0.89 |   1.1470  | 63.220\n",
            "   9  | 1.00 |   1.2236  | 61.260\n"
          ]
        }
      ],
      "source": [
        "permuted_B_fashion = git_merge(model_A_fashion, model_B_fashion, silent=False)\n",
        "print('Permuted model performance: ')\n",
        "test_loop(data_loaders['fashion'], permuted_B_fashion, loss_fn, test_set=True, device=device)\n",
        "print('evaluate interpolation original parameters: ')\n",
        "eval_dict_non_permuted = evaluate_interpolation(data_loaders['fashion'], \n",
        "                                                loss_fn,\n",
        "                                                model_A_fashion, model_B_fashion,\n",
        "                                                coef_vector, device=device)\n",
        "\n",
        "print('\\nevaluate interpoalitoin permuted parameters: ')\n",
        "eval_dict_permuted = evaluate_interpolation(data_loaders['fashion'],\n",
        "                                            loss_fn,\n",
        "                                            model_A_fashion, permuted_B_fashion, \n",
        "                                            coef_vector, device=device)"
      ]
    },
    {
      "cell_type": "code",
      "execution_count": null,
      "metadata": {
        "colab": {
          "base_uri": "https://localhost:8080/",
          "height": 436
        },
        "id": "2Xllv8JpNYH7",
        "outputId": "560aef5e-4fdd-4799-8ec0-6392bddce12b"
      },
      "outputs": [
        {
          "data": {
            "image/png": "[encoded data removed]",
            "text/plain": [
              "<Figure size 1296x432 with 2 Axes>"
            ]
          },
          "metadata": {
            "needs_background": "light"
          },
          "output_type": "display_data"
        }
      ],
      "source": [
        "plot_barrier(eval_dict_non_permuted, eval_dict_permuted, coef_vector, 'fashion_small')"
      ]
    },
    {
      "cell_type": "markdown",
      "metadata": {
        "id": "MgDTEfjf3TU_"
      },
      "source": [
        "# Wider net over mnist, fashion, cifar"
      ]
    },
    {
      "cell_type": "markdown",
      "metadata": {
        "id": "ACTUDF6Osbrz"
      },
      "source": [
        "As we have seen previously, a wider net shows better behaviour for permutation matching. Entezari et al theorize that it's because the hyper-parametrization of the loss creates a smoothed outline, that helps to create a linear path."
      ]
    },
    {
      "cell_type": "code",
      "execution_count": null,
      "metadata": {
        "id": "8LSG-f86yJQd"
      },
      "outputs": [],
      "source": [
        "model_A_mnist, model_B_mnist = MNet(mnist_input_size, bias=True), MNet(mnist_input_size, bias=True)\n",
        "model_A_fashion, model_B_fashion = MNet(mnist_input_size, bias=True), MNet(mnist_input_size, bias=True)\n",
        "model_A_cifar, model_B_cifar = MNet(cifar_input_size, bias=True), MNet(cifar_input_size, bias=True)\n",
        "\n",
        "model_A_mnist = model_A_mnist.to(device)\n",
        "model_B_mnist = model_B_mnist.to(device)\n",
        "#--------------------------------------\n",
        "model_A_fashion = model_A_fashion.to(device)\n",
        "model_B_fashion = model_B_fashion.to(device)\n",
        "#--------------------------------------\n",
        "model_A_cifar = model_A_cifar.to(device)\n",
        "model_B_cifar = model_B_cifar.to(device)\n",
        "\n",
        "# consider other loss\n",
        "loss_fn = nn.CrossEntropyLoss().to(device)\n",
        "epochs = 100\n",
        "\n",
        "optimizer_A_mnist = optim.Adam(model_A_mnist.parameters())\n",
        "optimizer_B_mnist = optim.Adam(model_B_mnist.parameters())\n",
        "#--------------------------------------\n",
        "optimizer_A_fashion = optim.Adam(model_A_fashion.parameters())\n",
        "optimizer_B_fashion = optim.Adam(model_B_fashion.parameters())\n",
        "#--------------------------------------\n",
        "optimizer_A_cifar = optim.Adam(model_A_cifar.parameters())\n",
        "optimizer_B_cifar = optim.Adam(model_B_cifar.parameters())\n",
        "\n"
      ]
    },
    {
      "cell_type": "code",
      "execution_count": null,
      "metadata": {
        "id": "TZyM1W43Zih1"
      },
      "outputs": [],
      "source": [
        "train_target_medium = [\n",
        "    ('model_A_mnist', model_A_mnist, data_loaders['mnist']['train'], optimizer_A_mnist), \n",
        "    ('model_B_mnist', model_B_mnist, data_loaders['mnist']['train'], optimizer_B_mnist), \n",
        "\n",
        "    ('model_A_fashion', model_A_fashion, data_loaders['fashion']['train'], optimizer_A_fashion),\n",
        "    ('model_B_fashion', model_B_fashion, data_loaders['fashion']['train'], optimizer_B_fashion), \n",
        "\n",
        "    ('model_A_cifar', model_A_cifar, data_loaders['cifar']['train'], optimizer_A_cifar),\n",
        "    ('model_B_cifar', model_B_cifar, data_loaders['cifar']['train'], optimizer_B_cifar),\n",
        "              ]\n",
        "\n",
        "coef_vector = np.linspace(start=0.0, stop=1.0, num=10)"
      ]
    },
    {
      "cell_type": "code",
      "execution_count": null,
      "metadata": {
        "colab": {
          "base_uri": "https://localhost:8080/"
        },
        "id": "NoR8qjnTZ181",
        "outputId": "997c0728-c25d-4309-de3d-aa93c5c9e2ef"
      },
      "outputs": [
        {
          "name": "stdout",
          "output_type": "stream",
          "text": [
            "name = 'model_B_cifar', medium net\n"
          ]
        },
        {
          "name": "stderr",
          "output_type": "stream",
          "text": [
            "100%|██████████| 100/100 [20:09<00:00, 12.09s/it]\n"
          ]
        }
      ],
      "source": [
        "result_loss_medium = defaultdict(list)\n",
        "\n",
        "for (name, model, loader, opt) in train_target_medium: \n",
        "  scaler = GradScaler() #prevent gradient to underflow\n",
        "  print(f'{name = }, medium net')\n",
        "  for epoch in tqdm.tqdm(range(epochs)): \n",
        "    result_epoch = train_loop(loader, model, \n",
        "                              loss_fn, opt,\n",
        "                              scaler,\n",
        "                              print_score=False,\n",
        "                              return_loss=True)\n",
        "    result_loss_medium[name].append(result_epoch)\n",
        "  torch.save(model.state_dict(), f'MNet_{name}_Adam.pt')"
      ]
    },
    {
      "cell_type": "code",
      "execution_count": null,
      "metadata": {
        "colab": {
          "base_uri": "https://localhost:8080/"
        },
        "id": "m3q33HPlXibU",
        "outputId": "5f9bbac7-6bd5-4585-f09b-8563bd348ea3"
      },
      "outputs": [
        {
          "data": {
            "text/plain": [
              "<All keys matched successfully>"
            ]
          },
          "execution_count": 60,
          "metadata": {},
          "output_type": "execute_result"
        }
      ],
      "source": [
        "subpath = path +\"/MNet/\"\n",
        "model_A_mnist.load_state_dict(torch.load(subpath+'MNet_model_A_mnist_Adam.pt', map_location=device))\n",
        "model_B_mnist.load_state_dict(torch.load(subpath+'MNet_model_B_mnist_Adam.pt', map_location=device))\n",
        "\n",
        "model_A_fashion.load_state_dict(torch.load(subpath+'MNet_model_A_fashion_Adam.pt', map_location=device))\n",
        "model_B_fashion.load_state_dict(torch.load(subpath+'MNet_model_B_fashion_Adam.pt', map_location=device))\n",
        "\n",
        "model_A_cifar.load_state_dict(torch.load(subpath+'MNet_model_A_cifar_Adam.pt', map_location=device))\n",
        "model_B_cifar.load_state_dict(torch.load(subpath+'MNet_model_B_cifar_Adam.pt', map_location=device))"
      ]
    },
    {
      "cell_type": "markdown",
      "metadata": {
        "id": "QGgUI-hbfQ54"
      },
      "source": [
        "##mnist"
      ]
    },
    {
      "cell_type": "code",
      "execution_count": null,
      "metadata": {
        "colab": {
          "base_uri": "https://localhost:8080/"
        },
        "id": "AxZRYW4WfPyz",
        "outputId": "54467648-7e6b-4016-bf91-2e11b1b8cf7a"
      },
      "outputs": [
        {
          "name": "stdout",
          "output_type": "stream",
          "text": [
            "Eval on test: \n",
            " Accuracy: 98.6%, Avg loss: 0.212665 \n",
            "\n",
            "Eval on test: \n",
            " Accuracy: 98.6%, Avg loss: 0.218879 \n",
            "\n"
          ]
        }
      ],
      "source": [
        "test_loop(data_loaders['mnist'], model_A_mnist, loss_fn, test_set=True, device=device)\n",
        "test_loop(data_loaders['mnist'], model_B_mnist, loss_fn, test_set=True, device=device)"
      ]
    },
    {
      "cell_type": "code",
      "execution_count": null,
      "metadata": {
        "colab": {
          "base_uri": "https://localhost:8080/"
        },
        "id": "nO-6PHNGfg2Y",
        "outputId": "22e0c7ff-9861-4fa2-94df-f7fde115f024"
      },
      "outputs": [
        {
          "name": "stdout",
          "output_type": "stream",
          "text": [
            "run:0 || P3; gain: 451.0353301437199\n",
            "run:0 || P1; gain: 3343.7767522898266\n",
            "run:0 || P2; gain: 1195.192184372091\n",
            "run:1 || P1; gain: 51.66090895612615\n",
            "run:1 || P3; gain: 495.30973823547174\n",
            "run:1 || P2; gain: 109.08458525749575\n",
            "run:2 || P3; gain: 77.94914223344631\n",
            "run:2 || P2; gain: 11.466581162332659\n",
            "run:2 || P1; gain: 9.608738873261245\n",
            "run:3 || P1; gain: 0.0\n",
            "run:3 || P2; gain: 4.647542077784237\n",
            "run:3 || P3; gain: 25.342510036724434\n",
            "run:4 || P3; gain: 0.0\n",
            "run:4 || P1; gain: 0.8972917726023297\n",
            "run:4 || P2; gain: 2.4619396433827205\n",
            "run:5 || P1; gain: 0.7327414368955942\n",
            "run:5 || P2; gain: 0.17387695514480583\n",
            "run:5 || P3; gain: 4.549831230157906\n",
            "run:6 || P2; gain: 1.4881607094621359\n",
            "run:6 || P1; gain: 0.3219292105641216\n",
            "run:6 || P3; gain: 2.1880863537621735\n",
            "run:7 || P3; gain: 0.0\n",
            "run:7 || P1; gain: 0.0\n",
            "run:7 || P2; gain: 0.0\n",
            "---------------------------\n",
            "stop progress at run :  7\n",
            "Permuted model performance: \n",
            "Eval on test: \n",
            " Accuracy: 98.5%, Avg loss: 0.101155 \n",
            "\n",
            "evaluate interpolation original parameters: \n",
            "index | coef | test loss | test_acc\n",
            "   0  | 0.00 |   0.2127  | 98.590\n",
            "   1  | 0.11 |   0.1161  | 98.360\n",
            "   2  | 0.22 |   0.0887  | 97.700\n",
            "   3  | 0.33 |   0.4142  | 92.410\n",
            "   4  | 0.44 |   1.5157  | 49.160\n",
            "   5  | 0.56 |   1.5793  | 45.960\n",
            "   6  | 0.67 |   0.4943  | 89.860\n",
            "   7  | 0.78 |   0.0898  | 97.610\n",
            "   8  | 0.89 |   0.1093  | 98.460\n",
            "   9  | 1.00 |   0.2189  | 98.570\n",
            "\n",
            "evaluate interpoalitoin permuted parameters: \n",
            "index | coef | test loss | test_acc\n",
            "   0  | 0.00 |   0.2127  | 98.590\n",
            "   1  | 0.11 |   0.1814  | 98.550\n",
            "   2  | 0.22 |   0.1565  | 98.550\n",
            "   3  | 0.33 |   0.1378  | 98.580\n",
            "   4  | 0.44 |   0.1236  | 98.600\n",
            "   5  | 0.56 |   0.1131  | 98.600\n",
            "   6  | 0.67 |   0.1067  | 98.530\n",
            "   7  | 0.78 |   0.1027  | 98.510\n",
            "   8  | 0.89 |   0.1008  | 98.480\n",
            "   9  | 1.00 |   0.1012  | 98.510\n"
          ]
        }
      ],
      "source": [
        "permuted_B_mnist = git_merge(model_A_mnist, model_B_mnist, silent=False)\n",
        "print('Permuted model performance: ')\n",
        "test_loop(data_loaders['mnist'], permuted_B_mnist, loss_fn, test_set=True, device=device)\n",
        "\n",
        "print('evaluate interpolation original parameters: ')\n",
        "eval_dict_non_permuted = evaluate_interpolation(data_loaders['mnist'], \n",
        "                                                loss_fn,\n",
        "                                                model_A_mnist, model_B_mnist,\n",
        "                                                coef_vector, device=device)\n",
        "\n",
        "print('\\nevaluate interpoalitoin permuted parameters: ')\n",
        "eval_dict_permuted = evaluate_interpolation(data_loaders['mnist'],\n",
        "                                            loss_fn,\n",
        "                                            model_A_mnist, permuted_B_mnist, \n",
        "                                            coef_vector, device=device)"
      ]
    },
    {
      "cell_type": "markdown",
      "metadata": {
        "id": "DIr79iSAt55x"
      },
      "source": [
        "From the table printed above, we can see that the accuracy remains stable.\n",
        "\\\n",
        "Indeed, the loss decreased, pointing to a better set of weights respect the original models."
      ]
    },
    {
      "cell_type": "code",
      "execution_count": null,
      "metadata": {
        "colab": {
          "base_uri": "https://localhost:8080/",
          "height": 288
        },
        "id": "VA7OzkTWfjIJ",
        "outputId": "60aa8073-64f9-4d85-c019-462d9f19987f"
      },
      "outputs": [
        {
          "data": {
            "image/png": "[encoded data removed]",
            "text/plain": [
              "<Figure size 1296x432 with 2 Axes>"
            ]
          },
          "metadata": {
            "needs_background": "light"
          },
          "output_type": "display_data"
        }
      ],
      "source": [
        "plot_barrier(eval_dict_non_permuted, eval_dict_permuted, coef_vector, 'mnist MNet')"
      ]
    },
    {
      "cell_type": "markdown",
      "metadata": {
        "id": "QBlypHTzjg52"
      },
      "source": [
        "## fashion\n"
      ]
    },
    {
      "cell_type": "markdown",
      "metadata": {
        "id": "lXyqkYFgusTm"
      },
      "source": [
        "Come back to the F_mnist dataset, the permuted net shows the same characteristics of the Mnist experiment. We lost a bit of accuracy (1.5%) but the path between the models results is still linear."
      ]
    },
    {
      "cell_type": "code",
      "execution_count": null,
      "metadata": {
        "colab": {
          "base_uri": "https://localhost:8080/"
        },
        "id": "Zzx8phh0jkS7",
        "outputId": "df0460de-c8b3-49a8-cf6d-ef9f07cfdb6a"
      },
      "outputs": [
        {
          "name": "stdout",
          "output_type": "stream",
          "text": [
            "Eval on test: \n",
            " Accuracy: 89.4%, Avg loss: 0.971641 \n",
            "\n",
            "Eval on test: \n",
            " Accuracy: 89.5%, Avg loss: 1.062084 \n",
            "\n"
          ]
        }
      ],
      "source": [
        "test_loop(data_loaders['fashion'], model_A_fashion, loss_fn, test_set=True, device=device)\n",
        "test_loop(data_loaders['fashion'], model_B_fashion, loss_fn, test_set=True, device=device)"
      ]
    },
    {
      "cell_type": "code",
      "execution_count": null,
      "metadata": {
        "colab": {
          "base_uri": "https://localhost:8080/"
        },
        "id": "vLNoWjUcjous",
        "outputId": "65875268-7e5a-443f-898d-08a30dd69659"
      },
      "outputs": [
        {
          "name": "stdout",
          "output_type": "stream",
          "text": [
            "Permuted model performance: \n",
            "Eval on test: \n",
            " Accuracy: 88.0%, Avg loss: 0.442848 \n",
            "\n",
            "evaluate interpolation original parameters: \n",
            "index | coef | test loss | test_acc\n",
            "   0  | 0.00 |   0.9716  | 89.390\n",
            "   1  | 0.11 |   0.6183  | 87.430\n",
            "   2  | 0.22 |   0.6788  | 79.390\n",
            "   3  | 0.33 |   1.2071  | 58.560\n",
            "   4  | 0.44 |   1.9680  | 29.040\n",
            "   5  | 0.56 |   2.0848  | 30.510\n",
            "   6  | 0.67 |   1.3961  | 57.450\n",
            "   7  | 0.78 |   0.6810  | 80.920\n",
            "   8  | 0.89 |   0.6803  | 88.030\n",
            "   9  | 1.00 |   1.0621  | 89.540\n",
            "\n",
            "evaluate interpoalitoin permuted parameters: \n",
            "index | coef | test loss | test_acc\n",
            "   0  | 0.00 |   0.9716  | 89.390\n",
            "   1  | 0.11 |   0.7900  | 89.670\n",
            "   2  | 0.22 |   0.6554  | 89.650\n",
            "   3  | 0.33 |   0.5623  | 89.640\n",
            "   4  | 0.44 |   0.5027  | 89.140\n",
            "   5  | 0.56 |   0.4663  | 88.850\n",
            "   6  | 0.67 |   0.4484  | 88.710\n",
            "   7  | 0.78 |   0.4417  | 88.260\n",
            "   8  | 0.89 |   0.4414  | 87.940\n",
            "   9  | 1.00 |   0.4428  | 87.990\n"
          ]
        }
      ],
      "source": [
        "permuted_B_fashion = git_merge(model_A_fashion, model_B_fashion, silent=True)\n",
        "print('Permuted model performance: ')\n",
        "test_loop(data_loaders['fashion'], permuted_B_fashion, loss_fn, test_set=True, device=device)\n",
        "print('evaluate interpolation original parameters: ')\n",
        "eval_dict_non_permuted = evaluate_interpolation(data_loaders['fashion'], \n",
        "                                                loss_fn,\n",
        "                                                model_A_fashion, model_B_fashion,\n",
        "                                                coef_vector, device=device)\n",
        "\n",
        "print('\\nevaluate interpoalitoin permuted parameters: ')\n",
        "eval_dict_permuted = evaluate_interpolation(data_loaders['fashion'],\n",
        "                                            loss_fn,\n",
        "                                            model_A_fashion, permuted_B_fashion, \n",
        "                                            coef_vector, device=device)"
      ]
    },
    {
      "cell_type": "code",
      "execution_count": null,
      "metadata": {
        "colab": {
          "base_uri": "https://localhost:8080/",
          "height": 265
        },
        "id": "kQmsKw7ujs1r",
        "outputId": "48a6b0cb-91c4-4668-c5c1-31b208dce11d"
      },
      "outputs": [
        {
          "data": {
            "image/png": "[encoded data removed]",
            "text/plain": [
              "<Figure size 1296x432 with 2 Axes>"
            ]
          },
          "metadata": {
            "needs_background": "light"
          },
          "output_type": "display_data"
        }
      ],
      "source": [
        "plot_barrier(eval_dict_non_permuted, eval_dict_permuted, coef_vector, 'fashion MNet')"
      ]
    },
    {
      "cell_type": "markdown",
      "metadata": {
        "id": "uXTc_HGmkENP"
      },
      "source": [
        "## cifar"
      ]
    },
    {
      "cell_type": "markdown",
      "metadata": {
        "id": "K3gpEkoCvSxc"
      },
      "source": [
        "Now it looks clear that the efficiency of a permuted model depends also on the task difficulty, so I choose to test the WiderNet also over the cifar10.\n",
        "The phenomenon that we see is the same as the small net over an easy dataset: it's impossible for the weight_matching to find a set of permutations that create a linear path. The obstacle remains the profile of the loss function.\n",
        "\n",
        "As in the previous test, the result of the permuted model interpolated with an original one is still better than the interpolation between the original models."
      ]
    },
    {
      "cell_type": "code",
      "execution_count": null,
      "metadata": {
        "colab": {
          "base_uri": "https://localhost:8080/"
        },
        "id": "I3aIG54XkDNh",
        "outputId": "1082dec0-7bd5-436f-d76d-b7bfe24a84a1"
      },
      "outputs": [
        {
          "name": "stdout",
          "output_type": "stream",
          "text": [
            "Eval on test: \n",
            " Accuracy: 98.1%, Avg loss: 0.071412 \n",
            "\n",
            "Eval on test: \n",
            " Accuracy: 97.1%, Avg loss: 0.128897 \n",
            "\n"
          ]
        }
      ],
      "source": [
        "test_loop(data_loaders['cifar'], model_A_cifar, loss_fn, test_set=True, device=device)\n",
        "test_loop(data_loaders['cifar'], model_B_cifar, loss_fn, test_set=True, device=device)"
      ]
    },
    {
      "cell_type": "code",
      "execution_count": null,
      "metadata": {
        "colab": {
          "base_uri": "https://localhost:8080/"
        },
        "id": "o6qYO24ckHQx",
        "outputId": "b0f37b6b-9c41-4c2d-c3e1-d409f0ce570c"
      },
      "outputs": [
        {
          "name": "stdout",
          "output_type": "stream",
          "text": [
            "Permuted model performance: \n",
            "Eval on test: \n",
            " Accuracy: 86.6%, Avg loss: 0.426789 \n",
            "\n",
            "evaluate interpolation original parameters: \n",
            "index | coef | test loss | test_acc\n",
            "   0  | 0.00 |   0.9716  | 89.390\n",
            "   1  | 0.11 |   0.6183  | 87.430\n",
            "   2  | 0.22 |   0.6788  | 79.390\n",
            "   3  | 0.33 |   1.2071  | 58.560\n",
            "   4  | 0.44 |   1.9680  | 29.040\n",
            "   5  | 0.56 |   2.0848  | 30.510\n",
            "   6  | 0.67 |   1.3961  | 57.450\n",
            "   7  | 0.78 |   0.6810  | 80.920\n",
            "   8  | 0.89 |   0.6803  | 88.030\n",
            "   9  | 1.00 |   1.0621  | 89.540\n",
            "\n",
            "evaluate interpoalitoin permuted parameters: \n",
            "index | coef | test loss | test_acc\n",
            "   0  | 0.00 |   0.9716  | 89.390\n",
            "   1  | 0.11 |   0.7650  | 89.690\n",
            "   2  | 0.22 |   0.6224  | 89.530\n",
            "   3  | 0.33 |   0.5301  | 89.320\n",
            "   4  | 0.44 |   0.4740  | 88.880\n",
            "   5  | 0.56 |   0.4430  | 88.340\n",
            "   6  | 0.67 |   0.4295  | 87.750\n",
            "   7  | 0.78 |   0.4254  | 87.270\n",
            "   8  | 0.89 |   0.4254  | 86.930\n",
            "   9  | 1.00 |   0.4268  | 86.610\n"
          ]
        }
      ],
      "source": [
        "permuted_B_fashion = git_merge(model_A_fashion, model_B_fashion, silent=True)\n",
        "print('Permuted model performance: ')\n",
        "test_loop(data_loaders['fashion'], permuted_B_fashion, loss_fn, test_set=True, device=device)\n",
        "print('evaluate interpolation original parameters: ')\n",
        "eval_dict_non_permuted = evaluate_interpolation(data_loaders['fashion'], \n",
        "                                                loss_fn,\n",
        "                                                model_A_fashion, model_B_fashion,\n",
        "                                                coef_vector, device=device)\n",
        "\n",
        "print('\\nevaluate interpoalitoin permuted parameters: ')\n",
        "eval_dict_permuted = evaluate_interpolation(data_loaders['fashion'],\n",
        "                                            loss_fn,\n",
        "                                            model_A_fashion, permuted_B_fashion, \n",
        "                                            coef_vector, device=device)"
      ]
    },
    {
      "cell_type": "code",
      "execution_count": null,
      "metadata": {
        "colab": {
          "base_uri": "https://localhost:8080/",
          "height": 436
        },
        "id": "yH-d2p5RkPYz",
        "outputId": "f643badf-2112-404c-e16e-aaa8bbed3449"
      },
      "outputs": [
        {
          "data": {
            "image/png": "[encoded data removed]",
            "text/plain": [
              "<Figure size 1296x432 with 2 Axes>"
            ]
          },
          "metadata": {
            "needs_background": "light"
          },
          "output_type": "display_data"
        }
      ],
      "source": [
        "plot_barrier(eval_dict_non_permuted, eval_dict_permuted, coef_vector, 'cifar MNet')"
      ]
    },
    {
      "cell_type": "markdown",
      "metadata": {
        "id": "CrBj5um3apLE"
      },
      "source": [
        "## cosine analysis "
      ]
    },
    {
      "cell_type": "markdown",
      "metadata": {
        "id": "8odXVfVswRR8"
      },
      "source": [
        "The methodology of the paper has as goal the minimization of the distance between 2 models after the application of the permutation. For this reason, I also checked the cosine similarity and plotted everything as a heat-matrix. \n",
        "\\\n",
        "Here I create a matrix 4x4, where for each row i save the distance between a model and all the other versions."
      ]
    },
    {
      "cell_type": "code",
      "execution_count": null,
      "metadata": {
        "id": "wAfCf7g8ac3-"
      },
      "outputs": [],
      "source": [
        "permuted_A_fashion = git_merge(model_B_fashion, model_A_fashion, silent=True) # reverse model\n",
        "\n",
        "model_to_analyze = [\n",
        "    model_A_fashion, \n",
        "    model_B_fashion, \n",
        "\n",
        "    permuted_A_fashion,\n",
        "    permuted_B_fashion, \n",
        "]\n",
        "\n",
        "similarity = np.eye(4)\n",
        "for i, model in enumerate(model_to_analyze):\n",
        "  for j, second_model in enumerate(model_to_analyze): \n",
        "    similarity[i,j] = cosine_similarity(model, second_model)"
      ]
    },
    {
      "cell_type": "code",
      "execution_count": null,
      "metadata": {
        "colab": {
          "base_uri": "https://localhost:8080/",
          "height": 440
        },
        "id": "yiDBrpwmya6c",
        "outputId": "a54d963e-d180-44ae-a6d1-7fb0469e2edd"
      },
      "outputs": [
        {
          "data": {
            "image/png": "[encoded data removed]",
            "text/plain": [
              "<Figure size 360x360 with 1 Axes>"
            ]
          },
          "metadata": {},
          "output_type": "display_data"
        }
      ],
      "source": [
        "label = ['A_fashion', 'B_fashion', 'permuted_A_f', 'permuted_B_f' ]\n",
        "\n",
        "fig, ax = plt.subplots(figsize=(5, 5))\n",
        "plt.title(\"cos similarity between weights\\nRed=parallel, blue=ortho\",fontsize=14)\n",
        "im = ax.imshow(similarity ,cmap=plt.cm.bwr,origin=\"lower\")\n",
        "fig.patch.set_facecolor('white')\n",
        "# add label \n",
        "plt.xticks(range(len(model_to_analyze)), label ,rotation = 90,fontsize=14)\n",
        "plt.yticks(range(len(model_to_analyze)), label, fontsize=14)\n",
        "# add text\n",
        "for i in range(similarity.shape[0]):\n",
        "    for j in range(similarity.shape[1]):\n",
        "        text = ax.text(j, i, round(similarity[i, j], 2), fontsize=15, ha=\"center\", va=\"center\", color=\"w\")\n",
        "\n",
        "plt.show()\n"
      ]
    },
    {
      "cell_type": "markdown",
      "metadata": {
        "id": "DSFtXQTuxUzz"
      },
      "source": [
        "From this matrix we see a symmetry in the permutation. This symmetry will also be plotted in the next section as a barrier between the models.\n",
        "\\ \n",
        "As might be expected, on the matrix we find a main diagonal with maximum values(distance between a model and itself).\n",
        "\\\n",
        "We also find an antidiagonal, matching permuted models with corresponding ones. "
      ]
    },
    {
      "cell_type": "markdown",
      "metadata": {
        "id": "fjB-UKJ0aJkQ"
      },
      "source": [
        "## On the symmetry of permutation"
      ]
    },
    {
      "cell_type": "code",
      "execution_count": null,
      "metadata": {
        "colab": {
          "base_uri": "https://localhost:8080/"
        },
        "id": "-_n9Pg9Oksxx",
        "outputId": "2b1222e6-cfc9-4a1b-fe18-3d2524cd3420"
      },
      "outputs": [
        {
          "name": "stdout",
          "output_type": "stream",
          "text": [
            "original parameter, interpolation\n",
            "index | coef | test loss | test_acc\n",
            "   0  | 0.00 |   0.9716  | 89.390\n",
            "   1  | 0.11 |   0.6183  | 87.430\n",
            "   2  | 0.22 |   0.6788  | 79.390\n",
            "   3  | 0.33 |   1.2071  | 58.560\n",
            "   4  | 0.44 |   1.9680  | 29.040\n",
            "   5  | 0.56 |   2.0848  | 30.510\n",
            "   6  | 0.67 |   1.3961  | 57.450\n",
            "   7  | 0.78 |   0.6810  | 80.920\n",
            "   8  | 0.89 |   0.6803  | 88.030\n",
            "   9  | 1.00 |   1.0621  | 89.540\n",
            "\n",
            "evaluate interpolation permuted parameters  (p(B) --> A) : \n",
            "index | coef | test loss | test_acc\n",
            "   0  | 0.00 |   0.9716  | 89.390\n",
            "   1  | 0.11 |   0.7650  | 89.690\n",
            "   2  | 0.22 |   0.6224  | 89.530\n",
            "   3  | 0.33 |   0.5301  | 89.320\n",
            "   4  | 0.44 |   0.4740  | 88.880\n",
            "   5  | 0.56 |   0.4430  | 88.340\n",
            "   6  | 0.67 |   0.4295  | 87.750\n",
            "   7  | 0.78 |   0.4254  | 87.270\n",
            "   8  | 0.89 |   0.4254  | 86.930\n",
            "   9  | 1.00 |   0.4268  | 86.610\n",
            "\n",
            "evaluate interpolation permuted parameters (p(A) --> B): \n",
            "index | coef | test loss | test_acc\n",
            "   0  | 0.00 |   0.4276  | 87.560\n",
            "   1  | 0.11 |   0.4292  | 87.360\n",
            "   2  | 0.22 |   0.4354  | 87.250\n",
            "   3  | 0.33 |   0.4497  | 87.410\n",
            "   4  | 0.44 |   0.4741  | 87.700\n",
            "   5  | 0.56 |   0.5142  | 88.140\n",
            "   6  | 0.67 |   0.5805  | 88.850\n",
            "   7  | 0.78 |   0.6875  | 89.130\n",
            "   8  | 0.89 |   0.8455  | 89.330\n",
            "   9  | 1.00 |   1.0621  | 89.540\n"
          ]
        }
      ],
      "source": [
        "print ('original parameter, interpolation')\n",
        "eval_dict_non_permuted = evaluate_interpolation(data_loaders['fashion'], \n",
        "                                                loss_fn,\n",
        "                                                model_A_fashion, model_B_fashion,\n",
        "                                                coef_vector, device=device)\n",
        "\n",
        "print('\\nevaluate interpolation permuted parameters  (p(B) --> A) : ')\n",
        "eval_dict_permuted_A_over_B = evaluate_interpolation(data_loaders['fashion'],\n",
        "                                            loss_fn,\n",
        "                                            model_A_fashion, permuted_B_fashion, \n",
        "                                            coef_vector, device=device)\n",
        "\n",
        "print('\\nevaluate interpolation permuted parameters (p(A) --> B): ')\n",
        "eval_dict_permuted_B_over_A = evaluate_interpolation(data_loaders['fashion'],\n",
        "                                            loss_fn,\n",
        "                                            permuted_A_fashion, model_B_fashion, \n",
        "                                            coef_vector, device=device)\n"
      ]
    },
    {
      "cell_type": "code",
      "execution_count": null,
      "metadata": {
        "colab": {
          "base_uri": "https://localhost:8080/",
          "height": 717
        },
        "id": "RTLFW4e_7B0Z",
        "outputId": "657087c8-1317-41ab-fa67-3de706e9a6c0"
      },
      "outputs": [
        {
          "name": "stderr",
          "output_type": "stream",
          "text": [
            "WARNING:matplotlib.legend:No handles with labels found to put in legend.\n"
          ]
        },
        {
          "data": {
            "image/png": "[encoded data removed]",
            "text/plain": [
              "<Figure size 1008x720 with 3 Axes>"
            ]
          },
          "metadata": {
            "needs_background": "light"
          },
          "output_type": "display_data"
        }
      ],
      "source": [
        "max_lim = max(eval_dict_non_permuted['train']) \n",
        "\n",
        "fig, axs = plt.subplots(3, figsize=(14, 10))\n",
        "fig.tight_layout(pad=5.0)\n",
        "fig.suptitle('comparison over p(A)->(B) and p(B)->(A)', fontsize=20)\n",
        "axs[1].legend(prop={'size': 15})\n",
        "\n",
        "\n",
        "axs[0].set_title('barrier original model', fontsize=15)\n",
        "axs[0].plot(coef_vector, eval_dict_non_permuted['train'],'--', marker='o', label='train', color='crimson')\n",
        "axs[0].plot(coef_vector, eval_dict_non_permuted['test'], marker='o', label='test', color='navy')\n",
        "axs[0].set_ylim([-0.5, max_lim+0.5])\n",
        "axs[0].legend(prop={'size': 15})\n",
        "axs[0].set_xlabel('interpolation coeff')\n",
        "axs[0].set_ylabel('loss')\n",
        "\n",
        "axs[1].set_title('barrier (P(B)-->(A))', fontsize=15)\n",
        "axs[1].plot(coef_vector, eval_dict_permuted_B_over_A['train'], '--', label='train', marker='o', color='darkviolet')\n",
        "axs[1].plot(coef_vector, eval_dict_permuted_B_over_A['test'], marker='o', label='test', color='limegreen')\n",
        "axs[1].set_ylim([-0.5, max_lim+0.5])\n",
        "axs[1].legend(prop={'size': 15})\n",
        "axs[1].set_xlabel('interpolation coeff')\n",
        "axs[1].set_ylabel('loss')\n",
        "\n",
        "axs[2].set_title('barrier (P(A)-->(B))',  fontsize=15)\n",
        "axs[2].plot(coef_vector, eval_dict_permuted_A_over_B['train'], '--', label='train', marker='o', color='darkorange')\n",
        "axs[2].plot(coef_vector, eval_dict_permuted_A_over_B['test'], marker='o', label='test', color='darkcyan')\n",
        "axs[2].set_ylim([-0.5, max_lim+0.5])\n",
        "axs[2].legend(prop={'size': 15})\n",
        "axs[2].set_xlabel('interpolation coeff')\n",
        "axs[2].set_ylabel('loss')\n",
        "\n",
        "plt.show()\n"
      ]
    },
    {
      "cell_type": "markdown",
      "metadata": {
        "id": "TbofH0ZzUmG2"
      },
      "source": [
        "\n",
        "As can be seen from the graphs above, it makes little difference which model you choose to permute, at least in this case. The barrier will still reduce"
      ]
    },
    {
      "cell_type": "markdown",
      "metadata": {
        "id": "6axxI-c936vG"
      },
      "source": [
        "## 2d projection "
      ]
    },
    {
      "cell_type": "markdown",
      "metadata": {
        "id": "cf-lPqWjxnbJ"
      },
      "source": [
        "Creation of a Gram-Schimdt orthogonalization process.\n",
        "\\\n",
        "The goal is to plot the weights on a 2D space and see the linear connectivity. \n",
        "\\\n",
        "\\\n",
        "To do this, i define a VectorSpace class that abstracts the procedure.\n",
        "The procedure of sampling the loss landscape is pretty expensive. For this reason, I have saved a matrix (loss_grid.obj) that contains all the sample values. \n",
        "\\ Load it for a fast "
      ]
    },
    {
      "cell_type": "code",
      "execution_count": null,
      "metadata": {
        "id": "qCYHq-GD2Dfp"
      },
      "outputs": [],
      "source": [
        "# procedure\n",
        "class VectorSpace:\n",
        "\n",
        "  def __init__(self, vec1, vec2, vec3): \n",
        "    self._calc_basis(vec1, vec2, vec3)\n",
        "\n",
        "  def _calc_basis(self, vec1, vec2, vec3):\n",
        "    self.v1 = vec1\n",
        "    self.v2 = vec2\n",
        "    self.basis1 = vec2 - vec1\n",
        "    self.basis2 = vec3 - vec1\n",
        "    self.basis1_normed = self.basis1 / np.sqrt(np.sum(self.basis1**2))\n",
        "    self.basis2_normed = self.basis2 / np.sqrt(np.sum(self.basis2**2))\n",
        "    self.scale_factor = np.sqrt(np.sum(self.basis1**2))\n",
        "\n",
        "\n",
        "  def project(self, vec): # AKA vect2point ---> fix notation\n",
        "    x = np.sum((vec - self.v1)*self.basis1_normed)/self.scale_factor\n",
        "    y = np.sum((vec - self.v2)*self.basis2_normed)/self.scale_factor\n",
        "    return x, y\n",
        "\n",
        "  def convert_to_vect(self, x, y):\n",
        "    return self.v1 + (self.basis1_normed * x * self.scale_factor) +\\\n",
        "            (self.basis2_normed * y * self.scale_factor)\n",
        "#-----------------------------------------------------------\n",
        "\n",
        "def deflat_params(flatten_vect, original_shape:dict):\n",
        "  index = 0\n",
        "  new_model_dict = {}\n",
        "  for k, v in original_shape.items(): \n",
        "    if len(v)==1: \n",
        "      num_param = v[0]\n",
        "      new_model_dict[k] = flatten_vect[index:index+num_param]\n",
        "    else: \n",
        "      num_param = v[0]*v[1]\n",
        "      temp = flatten_vect[index: num_param+index]\n",
        "      new_model_dict[k] = temp.reshape(v)\n",
        "    index += num_param  \n",
        "  return new_model_dict\n"
      ]
    },
    {
      "cell_type": "code",
      "source": [
        "x_axis = np.linspace(-0.5, 1.5, 20)\n",
        "y_axis = np.linspace(-0.5, 1.5, 20)\n",
        "loss_grid = np.zeros((len(x_axis), len(y_axis)))\n",
        "\n",
        "p1 = detach_parameters(dict(model_A_mnist.named_parameters()))\n",
        "p2 = detach_parameters(dict(model_B_mnist.named_parameters()))\n",
        "p3 = detach_parameters(dict(permuted_B_mnist.named_parameters()))\n",
        "model_dict_shape = {k: v.shape for k, v in p1.items()}\n",
        "\n",
        "temp_model = MNet(mnist_input_size, bias=True)\n",
        "temp_model.to(device)\n",
        "\n",
        "v1 = np.concatenate([p1[k].reshape([-1]) for k in p1.keys()], axis=0)\n",
        "v2 = np.concatenate([p2[k].reshape([-1]) for k in p1.keys()], axis=0)\n",
        "v3 = np.concatenate([p3[k].reshape([-1]) for k in p1.keys()], axis=0)\n",
        "\n",
        "vect_space = VectorSpace(v1, v2, v3)"
      ],
      "metadata": {
        "id": "AIk67-zWqvhc"
      },
      "execution_count": null,
      "outputs": []
    },
    {
      "cell_type": "code",
      "execution_count": null,
      "metadata": {
        "id": "jxvqTZWcokYs"
      },
      "outputs": [],
      "source": [
        "# sample landscape\n",
        "\n",
        "for i, x in enumerate(x_axis): \n",
        "  for j, y in enumerate(y_axis): \n",
        "    flatten_param = vect_space.convert_to_vect(x, y)\n",
        "    params = deflat_params(flatten_param, model_dict_shape)\n",
        "    temp_model.load_state_dict(retach_parameters(params))\n",
        "    _, test_loss = test_loop(data_loaders['mnist'], temp_model,\n",
        "                             loss_fn, device,\n",
        "                             test_set=False, print_score=False)\n",
        "    loss_grid[i, j] = test_loss\n",
        "    \n",
        "\n",
        "file_reference = open('loss_grid.obj', 'wb')\n",
        "pickle.dump(loss_grid, file_reference)\n",
        "file_reference.close()"
      ]
    },
    {
      "cell_type": "code",
      "execution_count": null,
      "metadata": {
        "id": "VbwtW54wt0DM"
      },
      "outputs": [],
      "source": [
        "#the loss_grid params require 30 min to be calc, better load it\n",
        "file_reference = open(path+'/loss_grid.obj', 'rb')\n",
        "loss_grid pickle.load(file_reference)\n",
        "file_reference.close()"
      ]
    },
    {
      "cell_type": "code",
      "execution_count": null,
      "metadata": {
        "id": "f9iZFhOVwj52"
      },
      "outputs": [],
      "source": [
        "log_loss_grid = np.log(loss_grid)"
      ]
    },
    {
      "cell_type": "code",
      "execution_count": null,
      "metadata": {
        "colab": {
          "base_uri": "https://localhost:8080/",
          "height": 562
        },
        "id": "pSTeCCqEoYRb",
        "outputId": "973ae1db-7abd-493f-e38d-13821f27ca1a"
      },
      "outputs": [
        {
          "data": {
            "image/png": "[encoded data removed]",
            "text/plain": [
              "<Figure size 936x576 with 1 Axes>"
            ]
          },
          "metadata": {
            "needs_background": "light"
          },
          "output_type": "display_data"
        },
        {
          "data": {
            "text/plain": [
              "<Figure size 600x500 with 0 Axes>"
            ]
          },
          "metadata": {},
          "output_type": "display_data"
        }
      ],
      "source": [
        "fig, ax = plt.subplots(figsize=(13, 8))\n",
        "fig = plt.figure(figsize=(6, 5), dpi=100)\n",
        "fig.patch.set_facecolor('white')\n",
        "\n",
        "ax.set_title(f\"Test loss weight space cut\\n (log scale over z)\", fontsize=20)\n",
        "\n",
        "ax.contourf( x_axis,y_axis,log_loss_grid.T,\n",
        "             cmap=plt.cm.Greens_r,\n",
        "             levels=20)\n",
        "\n",
        "x_m1,y_m1 = vect_space.project(v1)\n",
        "ax.scatter([x_m1],[y_m1],marker=\"o\",color=\"red\",label=\"model A\",s=300)\n",
        "\n",
        "x_m2,y_m2 = vect_space.project(v2)\n",
        "ax.scatter([x_m2],[y_m2],marker=\"s\",color=\"blue\",label=\"model B\",s=300)\n",
        "\n",
        "x_m2_perm,y_m2_perm = vect_space.project(v3)\n",
        "ax.scatter([x_m2_perm],[y_m2_perm],marker=\"^\",color=\"aqua\",label=\"model B\\npermuted\",s=300)\n",
        "\n",
        "\n",
        "ax.plot([x_m1,x_m2_perm],[y_m1,y_m2_perm],linewidth=2,linestyle=\"--\",color=\"fuchsia\",label=\"LMC\")\n",
        "ax.plot([x_m1,x_m2],[y_m1,y_m2],linewidth=2,linestyle=\"--\",color=\"crimson\",label=\"Non LMC\")\n",
        "\n",
        "\n",
        "ax.set_xlabel(\"Weight direction 1\",fontsize = 16)\n",
        "ax.set_ylabel(\"Weight direction 2\",fontsize = 16)\n",
        "\n",
        "\n",
        "ax.legend(fontsize=20,ncol=1)\n",
        "\n",
        "plt.show()"
      ]
    },
    {
      "cell_type": "markdown",
      "metadata": {
        "id": "Z8_PvEXfUmG8"
      },
      "source": [
        "Very cool part: the interpolation between the original <font color='red'>model A</font> and the <font color='2be6d0'>permuted model B</font> don't result in a linear path, but in a convex path. Indeed, moving closer to the permuted model we should see a reduction in the loss function\n"
      ]
    },
    {
      "cell_type": "markdown",
      "metadata": {
        "id": "jcOB8AMY3a51"
      },
      "source": [
        "#depth net over Mnist, Fashion, cifar10"
      ]
    },
    {
      "cell_type": "markdown",
      "source": [
        "The last test about model architecture and merging procedure was done with a deep version of the small net. The set of non-linear transformations doesn't help the loss landscape to converge in a single basis profile. The 3 tests run over the same dataset and the procedures are the same as before. \n",
        "\n",
        "\\\n",
        " \n",
        "The only case in which we can consider the result as useful is with the Mnist dataset. \n",
        "\\\n",
        "\n",
        "In the F_mnist and in the Cifar10 the permuted model exhibits the worst performance in the original case. A possible reason for this is given in this section.\n",
        "A possible reason about this is given in this [section](#scrollTo=zMgZpQ6ia4JU)"
      ],
      "metadata": {
        "id": "RP08FEWjr5Q2"
      }
    },
    {
      "cell_type": "code",
      "execution_count": null,
      "metadata": {
        "id": "QV_ozZNtyW2E"
      },
      "outputs": [],
      "source": [
        "model_A_mnist, model_B_mnist = DNet(mnist_input_size, bias=True), DNet(mnist_input_size, bias=True)\n",
        "model_A_fashion, model_B_fashion = DNet(mnist_input_size, bias=True), DNet(mnist_input_size, bias=True)\n",
        "model_A_cifar, model_B_cifar = DNet(cifar_input_size, bias=True), DNet(cifar_input_size, bias=True)\n",
        "\n",
        "model_A_mnist = model_A_mnist.to(device)\n",
        "model_B_mnist = model_B_mnist.to(device)\n",
        "#--------------------------------------\n",
        "model_A_fashion = model_A_fashion.to(device)\n",
        "model_B_fashion = model_B_fashion.to(device)\n",
        "#--------------------------------------\n",
        "model_A_cifar = model_A_cifar.to(device)\n",
        "model_B_cifar = model_B_cifar.to(device)\n",
        "\n",
        "# consider other loss\n",
        "loss_fn = nn.CrossEntropyLoss().to(device)\n",
        "epochs = 100\n",
        "\n",
        "optimizer_A_mnist = optim.Adam(model_A_mnist.parameters())\n",
        "optimizer_B_mnist = optim.Adam(model_B_mnist.parameters())\n",
        "#--------------------------------------\n",
        "optimizer_A_fashion = optim.Adam(model_A_fashion.parameters())\n",
        "optimizer_B_fashion = optim.Adam(model_B_fashion.parameters())\n",
        "#--------------------------------------\n",
        "optimizer_A_cifar = optim.Adam(model_A_cifar.parameters())\n",
        "optimizer_B_cifar = optim.Adam(model_B_cifar.parameters())\n"
      ]
    },
    {
      "cell_type": "code",
      "execution_count": null,
      "metadata": {
        "id": "K9DzPgt7p_CQ"
      },
      "outputs": [],
      "source": [
        "train_target_depth = [\n",
        "    ('model_A_mnist', model_A_mnist, data_loaders['mnist']['train'], optimizer_A_mnist), \n",
        "    ('model_B_mnist', model_B_mnist, data_loaders['mnist']['train'], optimizer_B_mnist), \n",
        "\n",
        "    ('model_A_fashion', model_A_fashion, data_loaders['fashion']['train'], optimizer_A_fashion),\n",
        "    ('model_B_fashion', model_B_fashion, data_loaders['fashion']['train'], optimizer_B_fashion), \n",
        "\n",
        "    ('model_A_cifar', model_A_cifar, data_loaders['cifar']['train'], optimizer_A_cifar),\n",
        "    ('model_B_cifar', model_B_cifar, data_loaders['cifar']['train'], optimizer_B_cifar),\n",
        "              ]"
      ]
    },
    {
      "cell_type": "code",
      "execution_count": null,
      "metadata": {
        "colab": {
          "base_uri": "https://localhost:8080/"
        },
        "id": "a4ex52swYhmN",
        "outputId": "3112db93-cc5b-4af3-d34f-3b993be4dcb9"
      },
      "outputs": [
        {
          "name": "stdout",
          "output_type": "stream",
          "text": [
            "name = 'model_A_mnist', Depth net\n"
          ]
        },
        {
          "name": "stderr",
          "output_type": "stream",
          "text": [
            "100%|██████████| 100/100 [12:03<00:00,  7.24s/it]\n"
          ]
        },
        {
          "name": "stdout",
          "output_type": "stream",
          "text": [
            "name = 'model_B_mnist', Depth net\n"
          ]
        },
        {
          "name": "stderr",
          "output_type": "stream",
          "text": [
            "100%|██████████| 100/100 [12:00<00:00,  7.20s/it]\n"
          ]
        },
        {
          "name": "stdout",
          "output_type": "stream",
          "text": [
            "name = 'model_A_fashion', Depth net\n"
          ]
        },
        {
          "name": "stderr",
          "output_type": "stream",
          "text": [
            "100%|██████████| 100/100 [13:48<00:00,  8.28s/it]\n"
          ]
        },
        {
          "name": "stdout",
          "output_type": "stream",
          "text": [
            "name = 'model_B_fashion', Depth net\n"
          ]
        },
        {
          "name": "stderr",
          "output_type": "stream",
          "text": [
            "100%|██████████| 100/100 [15:00<00:00,  9.01s/it]\n"
          ]
        },
        {
          "name": "stdout",
          "output_type": "stream",
          "text": [
            "name = 'model_A_cifar', Depth net\n"
          ]
        },
        {
          "name": "stderr",
          "output_type": "stream",
          "text": [
            "100%|██████████| 100/100 [25:06<00:00, 15.06s/it]\n"
          ]
        },
        {
          "name": "stdout",
          "output_type": "stream",
          "text": [
            "name = 'model_B_cifar', Depth net\n"
          ]
        },
        {
          "name": "stderr",
          "output_type": "stream",
          "text": [
            "100%|██████████| 100/100 [19:38<00:00, 11.78s/it]\n"
          ]
        }
      ],
      "source": [
        "result_loss_medium = defaultdict(list)\n",
        "\n",
        "for (name, model, loader, opt) in train_target_depth: \n",
        "  scaler = GradScaler() #prevent gradient to underflow (only 16bits)\n",
        "  print(f'{name = }, Depth net')\n",
        "  for epoch in tqdm.tqdm(range(epochs)): \n",
        "    result_epoch = train_loop(loader, model, \n",
        "                              loss_fn, opt,\n",
        "                              scaler,\n",
        "                              print_score=False,\n",
        "                              return_loss=True)\n",
        "    result_loss_medium[name].append(result_epoch)\n",
        "  torch.save(model.state_dict(), f'DNet_{name}_Adam.pt')"
      ]
    },
    {
      "cell_type": "code",
      "execution_count": null,
      "metadata": {
        "colab": {
          "base_uri": "https://localhost:8080/"
        },
        "id": "L7qtw9NKV1MX",
        "outputId": "7ac5f33f-462a-4802-a18a-d126295ea5f2"
      },
      "outputs": [
        {
          "data": {
            "text/plain": [
              "<All keys matched successfully>"
            ]
          },
          "execution_count": 33,
          "metadata": {},
          "output_type": "execute_result"
        }
      ],
      "source": [
        "subpath = path+\"/DNet/\"\n",
        "model_A_mnist.load_state_dict(torch.load(subpath+'DNet_model_A_mnist_Adam.pt', map_location=device))\n",
        "model_B_mnist.load_state_dict(torch.load(subpath+'DNet_model_B_mnist_Adam.pt', map_location=device))\n",
        "\n",
        "model_A_fashion.load_state_dict(torch.load(subpath+'DNet_model_A_fashion_Adam.pt', map_location=device))\n",
        "model_B_fashion.load_state_dict(torch.load(subpath+'DNet_model_B_fashion_Adam.pt',map_location=device))\n",
        "\n",
        "model_A_cifar.load_state_dict(torch.load(subpath+'DNet_model_A_cifar_Adam.pt', map_location=device))\n",
        "model_B_cifar.load_state_dict(torch.load(subpath+'DNet_model_B_cifar_Adam.pt', map_location=device))"
      ]
    },
    {
      "cell_type": "markdown",
      "metadata": {
        "id": "nr_kgvuhYqNp"
      },
      "source": [
        "##mnist"
      ]
    },
    {
      "cell_type": "code",
      "execution_count": null,
      "metadata": {
        "colab": {
          "base_uri": "https://localhost:8080/"
        },
        "id": "V3kJXGzbYqNr",
        "outputId": "293eee22-bfbd-4f4f-fd33-2f7c6f77871b"
      },
      "outputs": [
        {
          "name": "stdout",
          "output_type": "stream",
          "text": [
            "Eval on test: \n",
            " Accuracy: 97.7%, Avg loss: 0.140404 \n",
            "\n",
            "Eval on test: \n",
            " Accuracy: 89.5%, Avg loss: 0.317563 \n",
            "\n"
          ]
        }
      ],
      "source": [
        "test_loop(data_loaders['mnist'], model_A_mnist, loss_fn, test_set=True, device=device)\n",
        "test_loop(data_loaders['mnist'], model_B_mnist, loss_fn, test_set=True, device=device)"
      ]
    },
    {
      "cell_type": "code",
      "execution_count": null,
      "metadata": {
        "colab": {
          "base_uri": "https://localhost:8080/"
        },
        "id": "NGof33PCYqNs",
        "outputId": "1ea09f64-db48-4a08-c3bc-6a5e28d09f38"
      },
      "outputs": [
        {
          "name": "stdout",
          "output_type": "stream",
          "text": [
            "Permuted model performance: \n",
            "Eval on test: \n",
            " Accuracy: 79.6%, Avg loss: 0.809347 \n",
            "\n",
            "evaluate interpolation original parameters: \n",
            "index | coef | test loss | test_acc\n",
            "   0  | 0.00 |   0.1404  | 97.730\n",
            "   1  | 0.11 |   0.1509  | 97.500\n",
            "   2  | 0.22 |   1.0886  | 94.480\n",
            "   3  | 0.33 |   2.0188  | 48.760\n",
            "   4  | 0.44 |   2.2768  | 10.280\n",
            "   5  | 0.56 |   2.2253  | 23.890\n",
            "   6  | 0.67 |   2.0027  | 33.140\n",
            "   7  | 0.78 |   1.2603  | 86.460\n",
            "   8  | 0.89 |   0.3410  | 89.450\n",
            "   9  | 1.00 |   0.3176  | 89.510\n",
            "\n",
            "evaluate interpoalitoin permuted parameters: \n",
            "index | coef | test loss | test_acc\n",
            "   0  | 0.00 |   0.1404  | 97.730\n",
            "   1  | 0.11 |   0.1165  | 97.720\n",
            "   2  | 0.22 |   0.1049  | 97.700\n",
            "   3  | 0.33 |   0.1106  | 97.640\n",
            "   4  | 0.44 |   0.1485  | 97.590\n",
            "   5  | 0.56 |   0.2539  | 97.380\n",
            "   6  | 0.67 |   0.4448  | 96.910\n",
            "   7  | 0.78 |   0.6686  | 95.020\n",
            "   8  | 0.89 |   0.8051  | 75.910\n",
            "   9  | 1.00 |   0.8093  | 79.560\n"
          ]
        }
      ],
      "source": [
        "permuted_B_mnist = git_merge(model_A_mnist, model_B_mnist, silent=True)\n",
        "print('Permuted model performance: ')\n",
        "test_loop(data_loaders['mnist'], permuted_B_mnist, loss_fn, test_set=True, device=device)\n",
        "\n",
        "print('evaluate interpolation original parameters: ')\n",
        "eval_dict_non_permuted = evaluate_interpolation(data_loaders['mnist'], \n",
        "                                                loss_fn,\n",
        "                                                model_A_mnist, model_B_mnist,\n",
        "                                                coef_vector, device=device)\n",
        "\n",
        "print('\\nevaluate interpoalitoin permuted parameters: ')\n",
        "eval_dict_permuted = evaluate_interpolation(data_loaders['mnist'],\n",
        "                                            loss_fn,\n",
        "                                            model_A_mnist, permuted_B_mnist, \n",
        "                                            coef_vector, device=device)"
      ]
    },
    {
      "cell_type": "code",
      "execution_count": null,
      "metadata": {
        "colab": {
          "base_uri": "https://localhost:8080/",
          "height": 436
        },
        "id": "V8K-QqrDYqNt",
        "outputId": "cbba3fa5-588e-4bd5-8366-557f3bcd2ef6"
      },
      "outputs": [
        {
          "data": {
            "image/png": "[encoded data removed]",
            "text/plain": [
              "<Figure size 1296x432 with 2 Axes>"
            ]
          },
          "metadata": {
            "needs_background": "light"
          },
          "output_type": "display_data"
        }
      ],
      "source": [
        "plot_barrier(eval_dict_non_permuted, eval_dict_permuted, coef_vector, 'mnist MNet')"
      ]
    },
    {
      "cell_type": "markdown",
      "metadata": {
        "id": "iPskrDChZuWs"
      },
      "source": [
        "## fashion\n"
      ]
    },
    {
      "cell_type": "code",
      "execution_count": null,
      "metadata": {
        "colab": {
          "base_uri": "https://localhost:8080/"
        },
        "id": "jjRoIBlPZuWx",
        "outputId": "4ce97603-9425-4379-85ee-8494a513d923"
      },
      "outputs": [
        {
          "name": "stdout",
          "output_type": "stream",
          "text": [
            "Eval on test: \n",
            " Accuracy: 71.2%, Avg loss: 1.043689 \n",
            "\n",
            "Eval on test: \n",
            " Accuracy: 79.0%, Avg loss: 0.963108 \n",
            "\n"
          ]
        }
      ],
      "source": [
        "test_loop(data_loaders['fashion'], model_A_fashion, loss_fn, test_set=True, device=device)\n",
        "test_loop(data_loaders['fashion'], model_B_fashion, loss_fn, test_set=True, device=device)"
      ]
    },
    {
      "cell_type": "code",
      "execution_count": null,
      "metadata": {
        "colab": {
          "base_uri": "https://localhost:8080/"
        },
        "id": "Sqt0AOyxZuW2",
        "outputId": "d1a4da57-8f67-4b1e-c61a-3a4e27016804"
      },
      "outputs": [
        {
          "name": "stdout",
          "output_type": "stream",
          "text": [
            "Permuted model performance: \n",
            "Eval on test: \n",
            " Accuracy: 34.0%, Avg loss: 1.937755 \n",
            "\n",
            "evaluate interpolation original parameters: \n",
            "index | coef | test loss | test_acc\n",
            "   0  | 0.00 |   1.0437  | 71.210\n",
            "   1  | 0.11 |   0.8691  | 68.870\n",
            "   2  | 0.22 |   1.4788  | 61.980\n",
            "   3  | 0.33 |   2.1999  | 39.420\n",
            "   4  | 0.44 |   2.3001  | 12.740\n",
            "   5  | 0.56 |   2.2736  | 15.200\n",
            "   6  | 0.67 |   2.0904  | 39.610\n",
            "   7  | 0.78 |   1.3618  | 71.680\n",
            "   8  | 0.89 |   0.8393  | 77.270\n",
            "   9  | 1.00 |   0.9631  | 78.950\n",
            "\n",
            "evaluate interpoalitoin permuted parameters: \n",
            "index | coef | test loss | test_acc\n",
            "   0  | 0.00 |   1.0437  | 71.210\n",
            "   1  | 0.11 |   0.9023  | 71.120\n",
            "   2  | 0.22 |   0.8358  | 70.730\n",
            "   3  | 0.33 |   0.8434  | 69.940\n",
            "   4  | 0.44 |   0.9337  | 68.610\n",
            "   5  | 0.56 |   1.1154  | 66.590\n",
            "   6  | 0.67 |   1.3627  | 61.870\n",
            "   7  | 0.78 |   1.6073  | 52.380\n",
            "   8  | 0.89 |   1.8384  | 40.600\n",
            "   9  | 1.00 |   1.9378  | 33.980\n"
          ]
        }
      ],
      "source": [
        "permuted_B_fashion = git_merge(model_A_fashion, model_B_fashion, silent=True)\n",
        "print('Permuted model performance: ')\n",
        "test_loop(data_loaders['fashion'], permuted_B_fashion, loss_fn, test_set=True, device=device)\n",
        "print('evaluate interpolation original parameters: ')\n",
        "eval_dict_non_permuted = evaluate_interpolation(data_loaders['fashion'], \n",
        "                                                loss_fn,\n",
        "                                                model_A_fashion, model_B_fashion,\n",
        "                                                coef_vector, device=device)\n",
        "\n",
        "print('\\nevaluate interpoalitoin permuted parameters: ')\n",
        "eval_dict_permuted = evaluate_interpolation(data_loaders['fashion'],\n",
        "                                            loss_fn,\n",
        "                                            model_A_fashion, permuted_B_fashion, \n",
        "                                            coef_vector, device=device)"
      ]
    },
    {
      "cell_type": "code",
      "execution_count": null,
      "metadata": {
        "colab": {
          "base_uri": "https://localhost:8080/",
          "height": 436
        },
        "id": "WMvnxuRiZuW7",
        "outputId": "03ea15f4-711b-496f-afe2-94e05cba3b8b"
      },
      "outputs": [
        {
          "data": {
            "image/png": "[encoded data removed]",
            "text/plain": [
              "<Figure size 1296x432 with 2 Axes>"
            ]
          },
          "metadata": {
            "needs_background": "light"
          },
          "output_type": "display_data"
        }
      ],
      "source": [
        "plot_barrier(eval_dict_non_permuted, eval_dict_permuted, coef_vector, 'fashion MNet')"
      ]
    },
    {
      "cell_type": "markdown",
      "metadata": {
        "id": "cDrpq7SVZ-nP"
      },
      "source": [
        "##cifar"
      ]
    },
    {
      "cell_type": "code",
      "execution_count": null,
      "metadata": {
        "colab": {
          "base_uri": "https://localhost:8080/"
        },
        "id": "07BlrAjkZ-nR",
        "outputId": "1193f9ab-9b00-404e-fd5f-d8bf988630c3"
      },
      "outputs": [
        {
          "name": "stdout",
          "output_type": "stream",
          "text": [
            "Eval on test: \n",
            " Accuracy: 45.3%, Avg loss: 1.313538 \n",
            "\n",
            "Eval on test: \n",
            " Accuracy: 85.5%, Avg loss: 0.365249 \n",
            "\n"
          ]
        }
      ],
      "source": [
        "test_loop(data_loaders['cifar'], model_A_cifar, loss_fn, test_set=True, device=device)\n",
        "test_loop(data_loaders['cifar'], model_B_cifar, loss_fn, test_set=True, device=device)"
      ]
    },
    {
      "cell_type": "code",
      "execution_count": null,
      "metadata": {
        "colab": {
          "base_uri": "https://localhost:8080/"
        },
        "id": "Xn89yLzLZ-nT",
        "outputId": "5cfa0c0d-0a1d-4406-f11b-fd10969defc0"
      },
      "outputs": [
        {
          "name": "stdout",
          "output_type": "stream",
          "text": [
            "Permuted model performance: \n",
            "Eval on test: \n",
            " Accuracy: 34.2%, Avg loss: 1.998769 \n",
            "\n",
            "evaluate interpolation original parameters: \n",
            "index | coef | test loss | test_acc\n",
            "   0  | 0.00 |   1.0437  | 71.210\n",
            "   1  | 0.11 |   0.8691  | 68.870\n",
            "   2  | 0.22 |   1.4788  | 61.980\n",
            "   3  | 0.33 |   2.1999  | 39.420\n",
            "   4  | 0.44 |   2.3001  | 12.740\n",
            "   5  | 0.56 |   2.2736  | 15.200\n",
            "   6  | 0.67 |   2.0904  | 39.610\n",
            "   7  | 0.78 |   1.3618  | 71.680\n",
            "   8  | 0.89 |   0.8393  | 77.270\n",
            "   9  | 1.00 |   0.9631  | 78.950\n",
            "\n",
            "evaluate interpoalitoin permuted parameters: \n",
            "index | coef | test loss | test_acc\n",
            "   0  | 0.00 |   1.0437  | 71.210\n",
            "   1  | 0.11 |   0.9033  | 71.120\n",
            "   2  | 0.22 |   0.8367  | 70.690\n",
            "   3  | 0.33 |   0.8356  | 69.720\n",
            "   4  | 0.44 |   0.9243  | 68.660\n",
            "   5  | 0.56 |   1.1408  | 66.350\n",
            "   6  | 0.67 |   1.4187  | 57.370\n",
            "   7  | 0.78 |   1.6921  | 51.590\n",
            "   8  | 0.89 |   1.9249  | 42.980\n",
            "   9  | 1.00 |   1.9988  | 34.230\n"
          ]
        }
      ],
      "source": [
        "permuted_B_fashion = git_merge(model_A_fashion, model_B_fashion, silent=True)\n",
        "print('Permuted model performance: ')\n",
        "test_loop(data_loaders['fashion'], permuted_B_fashion, loss_fn, test_set=True, device=device)\n",
        "print('evaluate interpolation original parameters: ')\n",
        "eval_dict_non_permuted = evaluate_interpolation(data_loaders['fashion'], \n",
        "                                                loss_fn,\n",
        "                                                model_A_fashion, model_B_fashion,\n",
        "                                                coef_vector, device=device)\n",
        "\n",
        "print('\\nevaluate interpoalitoin permuted parameters: ')\n",
        "eval_dict_permuted = evaluate_interpolation(data_loaders['fashion'],\n",
        "                                            loss_fn,\n",
        "                                            model_A_fashion, permuted_B_fashion, \n",
        "                                            coef_vector, device=device)"
      ]
    },
    {
      "cell_type": "code",
      "execution_count": null,
      "metadata": {
        "colab": {
          "base_uri": "https://localhost:8080/",
          "height": 436
        },
        "id": "LMzq5W0zZ-nW",
        "outputId": "10cf5548-72bb-4534-8158-1a96d2d57e20"
      },
      "outputs": [
        {
          "data": {
            "image/png": "[encoded data removed]",
            "text/plain": [
              "<Figure size 1296x432 with 2 Axes>"
            ]
          },
          "metadata": {
            "needs_background": "light"
          },
          "output_type": "display_data"
        }
      ],
      "source": [
        "plot_barrier(eval_dict_non_permuted, eval_dict_permuted, coef_vector, 'cifar MNet')"
      ]
    },
    {
      "cell_type": "markdown",
      "metadata": {
        "id": "zMgZpQ6ia4JU"
      },
      "source": [
        "## possible cause of low performance over depth network : variance collapse"
      ]
    },
    {
      "cell_type": "markdown",
      "metadata": {
        "id": "snv3t-nvcA8S"
      },
      "source": [
        "in [Repair, by jordan et. al 2023](https://arxiv.org/abs/2211.08403) it's show that the variance of activations progressively decays as we move deeper into the network, with the activations of later layers becoming nearly constant. As in the original paper, I measure the variance of each activation of each neuron, across a constant batch of training data.\n",
        "\n",
        "The procedure for quantify the variance collapse:\n",
        "- measure the variance across each neuron for each layer\n",
        "- sum this variance --> $v\\alpha, v1, v2$ for the interpolated net, and for the two original\n",
        "- compute the ratio ($v\\alpha) / ((v1 + v2)/2 $)\n",
        "- report this in the final plot\n"
      ]
    },
    {
      "cell_type": "code",
      "execution_count": null,
      "metadata": {
        "id": "ft5icvoEa3cH"
      },
      "outputs": [],
      "source": [
        "def measure_variance_across_activation(model, sample): #repair problem\n",
        "  activation = {}\n",
        "\n",
        "  def getActivation(name):\n",
        "    def hook(mode, input, output): \n",
        "      activation[name] = output.detach()\n",
        "    return hook \n",
        "\n",
        "  for name, module in model.named_children(): \n",
        "    hook = module.register_forward_hook(getActivation(name))\n",
        "    out = model(sample)\n",
        "    hook.remove()\n",
        "\n",
        "  activation = {k: v.numpy() for k, v in activation.items()}\n",
        "  var_for_layer = {k: np.sum(np.sum(np.var(v, axis=1))) for k, v in activation.items()}\n",
        "  return var_for_layer\n",
        "\n",
        "\n",
        "sample = next(iter(data_loaders['mnist']['train']))[0]"
      ]
    },
    {
      "cell_type": "code",
      "execution_count": null,
      "metadata": {
        "colab": {
          "base_uri": "https://localhost:8080/"
        },
        "id": "TggySPwDTsyN",
        "outputId": "d905a3bc-27ae-4303-82f4-310c14189dcd"
      },
      "outputs": [
        {
          "data": {
            "text/plain": [
              "{'dense1': 2022.6581,\n",
              " 'dense2': 3517.4548,\n",
              " 'dense3': 33513.91,\n",
              " 'dense4': 125708.3,\n",
              " 'dense5': 271178.78,\n",
              " 'dense6': 496056.66,\n",
              " 'dense7': 336495.94,\n",
              " 'dense8': 117268.164}"
            ]
          },
          "execution_count": 106,
          "metadata": {},
          "output_type": "execute_result"
        }
      ],
      "source": [
        "var_model_A = measure_variance_across_activation(model_A_mnist, sample)\n",
        "var_model_A"
      ]
    },
    {
      "cell_type": "code",
      "execution_count": null,
      "metadata": {
        "colab": {
          "base_uri": "https://localhost:8080/"
        },
        "id": "xNQwkU8RSEBP",
        "outputId": "1913cf04-8dca-4c70-acc4-208a16b5f9ca"
      },
      "outputs": [
        {
          "data": {
            "text/plain": [
              "{'dense1': 2138.149,\n",
              " 'dense2': 4075.8489,\n",
              " 'dense3': 41715.38,\n",
              " 'dense4': 194910.89,\n",
              " 'dense5': 565542.5,\n",
              " 'dense6': 903671.7,\n",
              " 'dense7': 369039.34,\n",
              " 'dense8': 172259.83}"
            ]
          },
          "execution_count": 109,
          "metadata": {},
          "output_type": "execute_result"
        }
      ],
      "source": [
        "var_model_B = measure_variance_across_activation(model_B_mnist, sample)\n",
        "var_model_B"
      ]
    },
    {
      "cell_type": "code",
      "execution_count": null,
      "metadata": {
        "colab": {
          "base_uri": "https://localhost:8080/"
        },
        "id": "lAGmaNMISkeK",
        "outputId": "b990e410-2a75-4755-a520-2a14b93d58a8"
      },
      "outputs": [
        {
          "data": {
            "text/plain": [
              "{'dense1': 1623.1292,\n",
              " 'dense2': 1861.0361,\n",
              " 'dense3': 15333.227,\n",
              " 'dense4': 44236.8,\n",
              " 'dense5': 59791.76,\n",
              " 'dense6': 47597.176,\n",
              " 'dense7': 11345.734,\n",
              " 'dense8': 3158.354}"
            ]
          },
          "execution_count": 111,
          "metadata": {},
          "output_type": "execute_result"
        }
      ],
      "source": [
        "var_model_B_perm = measure_variance_across_activation(git_merge(model_A_mnist, model_B_mnist, silent=True), sample)\n",
        "var_model_B_perm"
      ]
    },
    {
      "cell_type": "code",
      "execution_count": null,
      "metadata": {
        "colab": {
          "base_uri": "https://localhost:8080/"
        },
        "id": "a4l108wvUro_",
        "outputId": "2c55fd8e-1933-4704-807b-0ba0cd6b06fc"
      },
      "outputs": [
        {
          "data": {
            "text/plain": [
              "{'dense1': 0.7801991777577523,\n",
              " 'dense2': 0.49017824221408074,\n",
              " 'dense3': 0.40763981033401114,\n",
              " 'dense4': 0.2759460600357862,\n",
              " 'dense5': 0.14291919015741503,\n",
              " 'dense6': 0.06800916039335132,\n",
              " 'dense7': 0.03216206241998539,\n",
              " 'dense8': 0.021817261224518873}"
            ]
          },
          "execution_count": 112,
          "metadata": {},
          "output_type": "execute_result"
        }
      ],
      "source": [
        "ratio = {}\n",
        "for k in var_model_A.keys():\n",
        "  ratio[k] = var_model_B_perm[k]/ ((var_model_A[k] + var_model_B[k])/2)\n",
        "ratio"
      ]
    },
    {
      "cell_type": "code",
      "execution_count": null,
      "metadata": {
        "colab": {
          "base_uri": "https://localhost:8080/"
        },
        "id": "zSvTKN9BXCyo",
        "outputId": "fa6e36f9-d461-4f06-b543-a07a0a09c07a"
      },
      "outputs": [
        {
          "data": {
            "text/plain": [
              "[0.7801991777577523,\n",
              " 0.49017824221408074,\n",
              " 0.40763981033401114,\n",
              " 0.2759460600357862,\n",
              " 0.14291919015741503,\n",
              " 0.06800916039335132,\n",
              " 0.03216206241998539,\n",
              " 0.021817261224518873]"
            ]
          },
          "execution_count": 119,
          "metadata": {},
          "output_type": "execute_result"
        }
      ],
      "source": [
        "ratio_list = [v for k, v in ratio.items()]\n",
        "ratio_list"
      ]
    },
    {
      "cell_type": "code",
      "execution_count": null,
      "metadata": {
        "colab": {
          "base_uri": "https://localhost:8080/",
          "height": 300
        },
        "id": "EjbBe7HqDoE9",
        "outputId": "0a816f45-804c-4a00-b108-4093a8a72107"
      },
      "outputs": [
        {
          "data": {
            "image/png": "[encoded data removed]",
            "text/plain": [
              "<Figure size 432x288 with 1 Axes>"
            ]
          },
          "metadata": {
            "needs_background": "light"
          },
          "output_type": "display_data"
        }
      ],
      "source": [
        "plt.plot(ratio_list, marker='o')\n",
        "plt.title('variance decay', fontsize=15)\n",
        "plt.xlabel('layer index', fontsize=12)\n",
        "plt.ylabel('var ratio across a batch', fontsize=12)\n",
        "plt.show()"
      ]
    },
    {
      "cell_type": "markdown",
      "metadata": {
        "id": "aHriP1cyUmHG"
      },
      "source": [
        "The obtained result here are consistent with the original plot from the [paper](https://arxiv.org/abs/2211.08403)."
      ]
    },
    {
      "cell_type": "markdown",
      "metadata": {
        "id": "XnZVLHZE3pDV"
      },
      "source": [
        "# Multiple Merge"
      ]
    },
    {
      "cell_type": "markdown",
      "metadata": {
        "id": "AhtESsCyzBk-"
      },
      "source": [
        "## split dataset for unbalance sub-datasets\n",
        "To test the capacity of merging different trainset (so different model) and simulate a federal learning setting, i choose to extract some unbalance subset form the original dataset, then train different model and try to interpolate after the permutation procedure"
      ]
    },
    {
      "cell_type": "code",
      "execution_count": null,
      "metadata": {
        "colab": {
          "base_uri": "https://localhost:8080/"
        },
        "id": "VvS80PXq4UuG",
        "outputId": "e24c6a84-1506-4edb-b0b8-17671e498698"
      },
      "outputs": [
        {
          "data": {
            "text/plain": [
              "60000"
            ]
          },
          "execution_count": 66,
          "metadata": {},
          "output_type": "execute_result"
        }
      ],
      "source": [
        "len(experiment_data['MNIST']['train'])\n",
        "# 60.000 sample, 6.000 for classes\n"
      ]
    },
    {
      "cell_type": "code",
      "execution_count": null,
      "metadata": {
        "id": "ZMVqO-1ugzJr"
      },
      "outputs": [],
      "source": [
        "# select index of each class, extract 800 sample\n",
        "# lo [0] a fine istruzione serve perchè l'istruzione ritorna una tupla di len=1\n",
        "sample_to_remove = 800\n",
        "indeces_for_class_800_sample_MNIST_train = [\n",
        "    np.where((np.array(experiment_data['MNIST']['train'].targets) == 0))[0][:sample_to_remove],\n",
        "    np.where((np.array(experiment_data['MNIST']['train'].targets) == 1))[0][:sample_to_remove],\n",
        "    np.where((np.array(experiment_data['MNIST']['train'].targets) == 2))[0][:sample_to_remove],\n",
        "    np.where((np.array(experiment_data['MNIST']['train'].targets) == 3))[0][:sample_to_remove],\n",
        "    np.where((np.array(experiment_data['MNIST']['train'].targets) == 4))[0][:sample_to_remove],\n",
        "    np.where((np.array(experiment_data['MNIST']['train'].targets) == 5))[0][:sample_to_remove],\n",
        "    np.where((np.array(experiment_data['MNIST']['train'].targets) == 6))[0][:sample_to_remove],\n",
        "    np.where((np.array(experiment_data['MNIST']['train'].targets) == 7))[0][:sample_to_remove],\n",
        "    np.where((np.array(experiment_data['MNIST']['train'].targets) == 8))[0][:sample_to_remove],\n",
        "    np.where((np.array(experiment_data['MNIST']['train'].targets) == 9))[0][:sample_to_remove],\n",
        "]\n",
        "\n",
        "total_indeces_used = np.concatenate(indeces_for_class_800_sample_MNIST_train, axis=0)\n",
        "original_indeces = np.arange(0, len(experiment_data['MNIST']['train'])) \n",
        "remain_indeces = [i for i in original_indeces if i not in total_indeces_used]\n",
        "\n"
      ]
    },
    {
      "cell_type": "code",
      "execution_count": null,
      "metadata": {
        "colab": {
          "base_uri": "https://localhost:8080/"
        },
        "id": "_CJMerZP5Aw6",
        "outputId": "509878db-e512-4ad5-ff40-327eec4b1cfb"
      },
      "outputs": [
        {
          "data": {
            "text/plain": [
              "52000"
            ]
          },
          "execution_count": 75,
          "metadata": {},
          "output_type": "execute_result"
        }
      ],
      "source": [
        "len(remain_indeces)"
      ]
    },
    {
      "cell_type": "code",
      "execution_count": null,
      "metadata": {
        "id": "xX5ySH5Im2zI"
      },
      "outputs": [],
      "source": [
        "# shuffle the data for create 6 unbalance dataset, where each dataset has a maximum of 3 main classes\n",
        "\n",
        "unbalance_data_idx = []\n",
        "for i in range(6):\n",
        "  unbalance_data_idx.append(\n",
        "      [indeces_for_class_800_sample_MNIST_train[i] for i in \n",
        "      [random.randint(0, 9) for _ in range(3)]\n",
        "      ]\n",
        "  )\n",
        "  unbalance_data_idx[i] = np.concatenate(unbalance_data_idx[i], axis=0)\n"
      ]
    },
    {
      "cell_type": "code",
      "execution_count": null,
      "metadata": {
        "colab": {
          "base_uri": "https://localhost:8080/"
        },
        "id": "MoKdkfEXwwjg",
        "outputId": "6b1fc3ad-3bae-4ee5-c845-a032c0b09cc0"
      },
      "outputs": [
        {
          "data": {
            "text/plain": [
              "8666"
            ]
          },
          "execution_count": 69,
          "metadata": {},
          "output_type": "execute_result"
        }
      ],
      "source": [
        "len(remain_indeces)//6"
      ]
    },
    {
      "cell_type": "code",
      "execution_count": null,
      "metadata": {
        "colab": {
          "base_uri": "https://localhost:8080/"
        },
        "id": "RgRr5UxMq4-T",
        "outputId": "a49a6264-7dba-48a1-b3bc-ae1f6fa31b3d"
      },
      "outputs": [
        {
          "name": "stderr",
          "output_type": "stream",
          "text": [
            "<ipython-input-92-98d7a639060b>:4: VisibleDeprecationWarning: Creating an ndarray from ragged nested sequences (which is a list-or-tuple of lists-or-tuples-or ndarrays with different lengths or shapes) is deprecated. If you meant to do this, you must specify 'dtype=object' when creating the ndarray.\n",
            "  split_indices = np.array(split_indices)\n"
          ]
        }
      ],
      "source": [
        "# Add remain sample from the original dataset\n",
        "len_extra_data_for_dataset = len(remain_indeces)//6\n",
        "shuffled_indices = np.random.permutation(remain_indeces)\n",
        "split_indices = np.array_split(shuffled_indices, np.ceil(len(remain_indeces)/len_extra_data_for_dataset))\n",
        "split_indices = np.array(split_indices)\n",
        "unbalance_data_idx = [np.concatenate((unbalance_data_idx[i], split_indices[i])) for i in range(len(unbalance_data_idx))]\n",
        "\n",
        "# create list od dataset\n",
        "dataset_unbalance = [torch.utils.data.Subset(experiment_data['MNIST']['train'],\n",
        "                                              unbalance_data_idx[i]) for i in range(len(unbalance_data_idx))]"
      ]
    },
    {
      "cell_type": "code",
      "execution_count": null,
      "metadata": {
        "colab": {
          "base_uri": "https://localhost:8080/"
        },
        "id": "TgMC8sZlvcWF",
        "outputId": "3f0960d9-c1e5-41da-b348-7e3da2ce82ee"
      },
      "outputs": [
        {
          "data": {
            "text/plain": [
              "{0: <torch.utils.data.dataset.Subset at 0x7f4b415be910>,\n",
              " 1: <torch.utils.data.dataset.Subset at 0x7f4b41538fa0>,\n",
              " 2: <torch.utils.data.dataset.Subset at 0x7f4b4a0bb0a0>,\n",
              " 3: <torch.utils.data.dataset.Subset at 0x7f4b42069340>,\n",
              " 4: <torch.utils.data.dataset.Subset at 0x7f4b4a0ac1f0>,\n",
              " 5: <torch.utils.data.dataset.Subset at 0x7f4b4a0ac100>}"
            ]
          },
          "execution_count": 78,
          "metadata": {},
          "output_type": "execute_result"
        }
      ],
      "source": [
        "dataset_unbalance"
      ]
    },
    {
      "cell_type": "code",
      "execution_count": null,
      "metadata": {
        "colab": {
          "base_uri": "https://localhost:8080/",
          "height": 295
        },
        "id": "CNswHZEewSg7",
        "outputId": "a9ac2c29-8758-4b72-b8ab-eec6b1ea1314"
      },
      "outputs": [
        {
          "data": {
            "image/png": "[encoded data removed]",
            "text/plain": [
              "<Figure size 432x288 with 1 Axes>"
            ]
          },
          "metadata": {
            "needs_background": "light"
          },
          "output_type": "display_data"
        }
      ],
      "source": [
        "#plot distribution of a random subdataset\n",
        "class_counts = torch.zeros(10)\n",
        "for example in dataset_unbalance[2]:\n",
        "  class_counts[example[1]] += 1\n",
        "\n",
        "\n",
        "plt.bar(range(10), class_counts)\n",
        "plt.xlabel('Class label')\n",
        "plt.ylabel('Number of occurrences')\n",
        "plt.title('Class distribution for generic unbalance dataset')\n",
        "plt.show()"
      ]
    },
    {
      "cell_type": "code",
      "execution_count": null,
      "metadata": {
        "id": "tNlXMZgNziN8"
      },
      "outputs": [],
      "source": [
        "#create dataloader\n",
        "data_loaders_unbalance = {i: DataLoader(dataset_unbalance[i], \n",
        "                                        batch_size=124, \n",
        "                                        shuffle=True) for i in range(len(dataset_unbalance))}"
      ]
    },
    {
      "cell_type": "markdown",
      "metadata": {
        "id": "NfZDkoHczF5u"
      },
      "source": [
        "## Training 6 models default params\n"
      ]
    },
    {
      "cell_type": "code",
      "execution_count": null,
      "metadata": {
        "id": "9uM9QLiremU2"
      },
      "outputs": [],
      "source": [
        "#define 6 model\n",
        "num_models = 6\n",
        "epochs = 100 #100 by default, but low performance\n",
        "models = [MNet(input_size=mnist_input_size, bias=True) for i in range(num_models)]\n",
        "models = [models[i].to(device) for i in range(num_models)]\n",
        "opts = [optim.Adam(models[i].parameters()) for i in range(num_models)]\n",
        "loss_fn = nn.CrossEntropyLoss().to(device)\n"
      ]
    },
    {
      "cell_type": "code",
      "execution_count": null,
      "metadata": {
        "id": "lMXGXgutB-0B"
      },
      "outputs": [],
      "source": [
        "#train each model on a different dataset\n",
        "for id in range(1): \n",
        "  for epoch in tqdm.tqdm(range(epochs)): \n",
        "    scaler = GradScaler() \n",
        "    train_loop(data_loaders_unbalance[id], models[id], \n",
        "               loss_fn, opts[id], \n",
        "               scaler,\n",
        "               print_score=False, \n",
        "               return_loss=False)\n",
        "  torch.save(models[id].state_dict(), f'MNet_unbalance_Adam_1e-4_mnist_{id}.pt')"
      ]
    },
    {
      "cell_type": "code",
      "execution_count": null,
      "metadata": {
        "id": "AESuDqTPOH8n"
      },
      "outputs": [],
      "source": [
        "# or load the models\n",
        "subpath = path+'/unbalance/mnist/adam_-4/'\n",
        "for i in range(len(models)):\n",
        "  models[i].load_state_dict(torch.load(subpath + f'MNet_unbalance_Adam_1e-4_mnist_{i}.pt'))"
      ]
    },
    {
      "cell_type": "markdown",
      "metadata": {
        "id": "5RUmqDzCMIxh"
      },
      "source": [
        "## Eval models over unbalance data"
      ]
    },
    {
      "cell_type": "code",
      "execution_count": null,
      "metadata": {
        "colab": {
          "base_uri": "https://localhost:8080/"
        },
        "id": "KWPz_epLzNkr",
        "outputId": "1bf2b825-1ea9-4468-b7cd-d097bc24508f"
      },
      "outputs": [
        {
          "name": "stdout",
          "output_type": "stream",
          "text": [
            "Eval on train: \n",
            " Accuracy: 95.5%, Avg loss: 0.308483 \n",
            "\n",
            "Eval on train: \n",
            " Accuracy: 95.9%, Avg loss: 0.257431 \n",
            "\n",
            "Eval on train: \n",
            " Accuracy: 95.8%, Avg loss: 0.280003 \n",
            "\n",
            "Eval on train: \n",
            " Accuracy: 95.9%, Avg loss: 0.280224 \n",
            "\n",
            "Eval on train: \n",
            " Accuracy: 95.7%, Avg loss: 0.302238 \n",
            "\n",
            "Eval on train: \n",
            " Accuracy: 95.8%, Avg loss: 0.270182 \n",
            "\n"
          ]
        }
      ],
      "source": [
        "[test_loop(data_loaders['mnist'], models[i], loss_fn, device, test_set=False) for i in range(num_models)];"
      ]
    },
    {
      "cell_type": "code",
      "execution_count": null,
      "metadata": {
        "colab": {
          "base_uri": "https://localhost:8080/"
        },
        "id": "y_cTZ6ngBxXG",
        "outputId": "7f004bd4-2a2f-4dbd-9923-2a0e95412dde"
      },
      "outputs": [
        {
          "name": "stdout",
          "output_type": "stream",
          "text": [
            "Eval on test: \n",
            " Accuracy: 95.2%, Avg loss: 0.338789 \n",
            "\n",
            "Eval on test: \n",
            " Accuracy: 95.4%, Avg loss: 0.280903 \n",
            "\n",
            "Eval on test: \n",
            " Accuracy: 95.6%, Avg loss: 0.285759 \n",
            "\n",
            "Eval on test: \n",
            " Accuracy: 95.4%, Avg loss: 0.316844 \n",
            "\n",
            "Eval on test: \n",
            " Accuracy: 95.4%, Avg loss: 0.295238 \n",
            "\n",
            "Eval on test: \n",
            " Accuracy: 95.2%, Avg loss: 0.312307 \n",
            "\n"
          ]
        }
      ],
      "source": [
        "[test_loop(data_loaders['mnist'], models[i], loss_fn, device, test_set=True) for i in range(num_models)];"
      ]
    },
    {
      "cell_type": "markdown",
      "source": [
        "Average all the models return a ~50% less in the accuracy score"
      ],
      "metadata": {
        "id": "XkfJArUwu-NB"
      }
    },
    {
      "cell_type": "code",
      "execution_count": null,
      "metadata": {
        "colab": {
          "base_uri": "https://localhost:8080/"
        },
        "id": "rV9f6otNKFpL",
        "outputId": "933c9168-a317-4e29-c898-282909725470"
      },
      "outputs": [
        {
          "name": "stdout",
          "output_type": "stream",
          "text": [
            "Eval on train: \n",
            " Accuracy: 52.5%, Avg loss: 12.244119 \n",
            "\n"
          ]
        }
      ],
      "source": [
        "test_loop(data_loaders['mnist'], average_multiple_model(models), loss_fn, device, test_set=False)"
      ]
    },
    {
      "cell_type": "markdown",
      "metadata": {
        "id": "hgfSJVx7EoqJ"
      },
      "source": [
        "## multiple merge [paper style]\n"
      ]
    },
    {
      "cell_type": "markdown",
      "metadata": {
        "id": "2nbZg-Wua8Sn"
      },
      "source": [
        "<h3>Problem :</h3>\n",
        "The interpolation of several models strongly depends of the order of the model selected for the permutation. Sometimes i get a \"good\" test accuracy (92%) but more often i get a result near to 10% (random guess). The convergence comes after ~70 epochs but the loss grows up to infinity. For this reason, I have inserted a parameter that allows me to manually control the number of iterations. "
      ]
    },
    {
      "cell_type": "code",
      "execution_count": null,
      "metadata": {
        "colab": {
          "base_uri": "https://localhost:8080/"
        },
        "id": "zdeHrZs_F1UZ",
        "outputId": "f0285751-52ce-4d02-f8c7-a8aa4a8e0226"
      },
      "outputs": [
        {
          "name": "stdout",
          "output_type": "stream",
          "text": [
            "GIT MERGE OVER 6 MODELS\n",
            "sub_run:0 |P(model3)| similarity_gain: 0.829 | progress: True\n",
            "sub_run:0 |P(model5)| similarity_gain: 0.839 | progress: True\n",
            "sub_run:0 |P(model4)| similarity_gain: 0.842 | progress: True\n",
            "sub_run:0 |P(model1)| similarity_gain: 0.847 | progress: True\n",
            "sub_run:0 |P(model0)| similarity_gain: 0.098 | progress: True\n",
            "sub_run:0 |P(model2)| similarity_gain: 0.78 | progress: True\n",
            "Eval on test: \n",
            " Accuracy: 92.8%, Avg loss: 40.298571 \n",
            "\n",
            "Eval on train: \n",
            " Accuracy: 92.8%, Avg loss: 38.127755 \n",
            "\n"
          ]
        }
      ],
      "source": [
        "model_merge_many = git_merge_many(copy.deepcopy(models), runs=1, digit=3)\n",
        "test_loop(data_loaders['mnist'], model_merge_many, loss_fn, device, test_set=True)\n",
        "test_loop(data_loaders['mnist'], model_merge_many, loss_fn, device, test_set=False)"
      ]
    },
    {
      "cell_type": "markdown",
      "metadata": {
        "id": "TwSJU4DCMWWv"
      },
      "source": [
        "## multiple merge [permutation tree]\n",
        "\n",
        "between models to be ineffective, since the paper itself presents a counterexample to the single basin assumptions, I tried a series of permutations between the trailed models, hoping that by thinking of the permutations as the nodes of a binary tree, I could arrive at the root with a model with knowledge of all the data and with the same accuracy.\n",
        "My methods show a more stable behaviour but cannot compete with the result of the original paper (not the result that i get, i refer to the value that they get with their implementation) \n"
      ]
    },
    {
      "cell_type": "code",
      "execution_count": null,
      "metadata": {
        "id": "I4TBEPoQ9jC5"
      },
      "outputs": [],
      "source": [
        "m20 = git_merge(models[2], models[0], silent=True)\n",
        "m21 = git_merge(models[2], models[1], silent=True) \n",
        "m34 = git_merge(models[3], models[4], silent=True) \n",
        "m35 = git_merge(models[3], models[5], silent=True)"
      ]
    },
    {
      "cell_type": "code",
      "execution_count": null,
      "metadata": {
        "colab": {
          "base_uri": "https://localhost:8080/"
        },
        "id": "QdAl7F9G-VGH",
        "outputId": "10364e79-b4c8-4375-d82f-129cd5a17489"
      },
      "outputs": [
        {
          "name": "stdout",
          "output_type": "stream",
          "text": [
            "Eval on test: \n",
            " Accuracy: 94.7%, Avg loss: 0.282427 \n",
            "\n",
            "Eval on test: \n",
            " Accuracy: 94.8%, Avg loss: 0.248760 \n",
            "\n",
            "Eval on test: \n",
            " Accuracy: 94.7%, Avg loss: 0.283735 \n",
            "\n",
            "Eval on test: \n",
            " Accuracy: 91.0%, Avg loss: 0.400418 \n",
            "\n"
          ]
        }
      ],
      "source": [
        "test_loop(data_loaders['mnist'], m20, loss_fn, device, test_set=True)\n",
        "test_loop(data_loaders['mnist'], m21, loss_fn, device, test_set=True)\n",
        "test_loop(data_loaders['mnist'], m34, loss_fn, device, test_set=True)\n",
        "test_loop(data_loaders['mnist'], m35, loss_fn, device, test_set=True)"
      ]
    },
    {
      "cell_type": "code",
      "execution_count": null,
      "metadata": {
        "id": "brxYV97u-mny"
      },
      "outputs": [],
      "source": [
        "%%capture\n",
        "m012 = git_merge(m20, m21)\n",
        "m345 = git_merge(m34, m35)"
      ]
    },
    {
      "cell_type": "code",
      "execution_count": null,
      "metadata": {
        "colab": {
          "base_uri": "https://localhost:8080/"
        },
        "id": "w4iMMAK2-8JU",
        "outputId": "5614074e-bd43-4d6d-ad00-7dac5a7890c8"
      },
      "outputs": [
        {
          "name": "stdout",
          "output_type": "stream",
          "text": [
            "Eval on test: \n",
            " Accuracy: 94.3%, Avg loss: 0.266127 \n",
            "\n",
            "Eval on test: \n",
            " Accuracy: 93.6%, Avg loss: 0.296358 \n",
            "\n"
          ]
        }
      ],
      "source": [
        "test_loop(data_loaders['mnist'], m012, loss_fn, device, test_set=True)\n",
        "test_loop(data_loaders['mnist'], m345, loss_fn, device, test_set=True)\n"
      ]
    },
    {
      "cell_type": "code",
      "execution_count": null,
      "metadata": {
        "id": "2cKECxGG_I5K"
      },
      "outputs": [],
      "source": [
        "%%capture\n",
        "mf = git_merge(m012, m345)"
      ]
    },
    {
      "cell_type": "code",
      "execution_count": null,
      "metadata": {
        "colab": {
          "base_uri": "https://localhost:8080/"
        },
        "id": "GpHsmo6fCKfS",
        "outputId": "4fd919f6-df1e-4d96-ed5a-9b446054cda8"
      },
      "outputs": [
        {
          "name": "stdout",
          "output_type": "stream",
          "text": [
            "Eval on test: \n",
            " Accuracy: 91.5%, Avg loss: 0.341380 \n",
            "\n",
            "Eval on train: \n",
            " Accuracy: 91.6%, Avg loss: 0.331427 \n",
            "\n"
          ]
        }
      ],
      "source": [
        "test_loop(data_loaders['mnist'], mf, loss_fn, device, test_set=True)\n",
        "test_loop(data_loaders['mnist'], mf, loss_fn, device, test_set=False)"
      ]
    },
    {
      "cell_type": "markdown",
      "metadata": {
        "id": "5jujEc-HdKZd"
      },
      "source": [
        "\n",
        "Interestingly, the loss does not decrease, and the accuracy loses a few points, almost as if there is no linear path connecting all the subpoints.\n",
        "\n",
        "However, I also noticed that the selection of the permutation order of the models is a key parameter in achieving convergence or non-convergence of the procedure.\n",
        "\n",
        "<h3> Future work </h3>\n",
        "A possible improvement to this approach might consider the distance between two models to select which ones to permute, hoping that similar models can be joined first, to reduce noise and disturbance in the procedure."
      ]
    }
  ],
  "metadata": {
    "accelerator": "GPU",
    "colab": {
      "collapsed_sections": [
        "7VaYL9GN3w7Y",
        "1Xbwbv6S2e83",
        "jtNo5HyD2e_a",
        "QtAH5cus3Isu",
        "MgDTEfjf3TU_",
        "QBlypHTzjg52",
        "uXTc_HGmkENP",
        "CrBj5um3apLE",
        "fjB-UKJ0aJkQ",
        "jcOB8AMY3a51",
        "nr_kgvuhYqNp",
        "iPskrDChZuWs",
        "cDrpq7SVZ-nP",
        "zMgZpQ6ia4JU",
        "AhtESsCyzBk-",
        "5RUmqDzCMIxh"
      ],
      "provenance": []
    },
    "gpuClass": "standard",
    "kernelspec": {
      "display_name": "Python 3 (ipykernel)",
      "language": "python",
      "name": "python3"
    },
    "language_info": {
      "name": "python"
    }
  },
  "nbformat": 4,
  "nbformat_minor": 0
}
